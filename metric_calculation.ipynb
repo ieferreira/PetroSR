{
 "cells": [
  {
   "attachments": {},
   "cell_type": "markdown",
   "metadata": {},
   "source": [
    "### Peak Signal-to-Noise Ratio (PSNR) and Structural Similarity (SSIM) Metrics calculation\n",
    "\n",
    "\n",
    "- 2x (256x256-> 512x512)\n",
    "- 4x (128x128 -> 512x512)\n"
   ]
  },
  {
   "cell_type": "code",
   "execution_count": 3,
   "metadata": {},
   "outputs": [],
   "source": [
    "import os, shutil \n",
    "from PIL import Image \n",
    "import cv2 \n",
    "import numpy as np \n",
    "import matplotlib.pyplot as plt \n",
    "import pandas as pd \n",
    "from tqdm import tqdm\n"
   ]
  },
  {
   "cell_type": "code",
   "execution_count": 4,
   "metadata": {},
   "outputs": [],
   "source": [
    "from piqa import PSNR, SSIM\n",
    "import torchvision.transforms as transforms\n",
    "convert_tensor = transforms.ToTensor()"
   ]
  },
  {
   "attachments": {},
   "cell_type": "markdown",
   "metadata": {},
   "source": [
    "#### Define function to calculate PSNR"
   ]
  },
  {
   "cell_type": "code",
   "execution_count": 5,
   "metadata": {},
   "outputs": [],
   "source": [
    "#ls = os.listdir('4x_original/')\n",
    "values_swinir= []\n",
    "\n",
    "def folder_psnr(original_folder=\"original/\", method=\"swinir\",res=\"4x\"):\n",
    "    \"\"\"\n",
    "    Calculates Peak Signal To Noise (PSNR) Ratio between two folders (original and method)\n",
    "\n",
    "    Parameters\n",
    "    ----------\n",
    "    original_folder : str\n",
    "        Folder containing the original images\n",
    "    method : str\n",
    "        method of super-resolution applied to images\n",
    "    res : str\n",
    "        Super-resolution operation of the images\n",
    "        SR image folder MUST BE named as: res_method (e.g. 4x_swinir)\n",
    "    Returns\n",
    "    -------\n",
    "    psnr_values : list\n",
    "        List of PSNR values\n",
    "    mean_psnr : float\n",
    "        Mean PSNR value\n",
    "\n",
    "    \"\"\"\n",
    "\n",
    "    original_folder = original_folder\n",
    "    ls = os.listdir(original_folder)\n",
    "\n",
    "    values_psnr = []\n",
    "\n",
    "    for i in ls:\n",
    "        if int(i[:-4]) <= 2151 and int(i[:-4]) >= 2050:\n",
    "            X = Image.open(f\"{original_folder}/{i}\")\n",
    "            X = convert_tensor(X)\n",
    "            Y = Image.open(f\"result_images/{method}_{res}/{i}\")\n",
    "            Y = convert_tensor(Y)\n",
    "            psnr = PSNR()\n",
    "            value = psnr(X, Y)\n",
    "            values_psnr.append(float(value))  \n",
    "\n",
    "    mean_psnr = np.mean(values_psnr)\n",
    "\n",
    "    return values_psnr, mean_psnr\n",
    "\n"
   ]
  },
  {
   "attachments": {},
   "cell_type": "markdown",
   "metadata": {},
   "source": [
    "#### Calculate PSNR metric for 4x upscaling "
   ]
  },
  {
   "cell_type": "code",
   "execution_count": 7,
   "metadata": {},
   "outputs": [
    {
     "name": "stdout",
     "output_type": "stream",
     "text": [
      "25.451374128753063\n",
      "22.297405242919922\n",
      "23.48898910073673\n",
      "24.1478775248808\n",
      "24.426744199266622\n",
      "25.307925093407725\n"
     ]
    }
   ],
   "source": [
    "values_swinir, mean_swinir = folder_psnr(method=\"swinir\")\n",
    "values_nearest, mean_nearest = folder_psnr(method=\"nearest\")\n",
    "values_bilinear, mean_bilinear = folder_psnr(method=\"bilinear\")\n",
    "values_bicubic, mean_bicubic = folder_psnr(method=\"bicubic\")\n",
    "values_lanczos, mean_lanczos = folder_psnr(method=\"lanczos\")\n",
    "values_rcanit, mean_rcanit = folder_psnr(method=\"rcanit\")\n",
    "\n",
    "\n",
    "print(mean_swinir)\n",
    "print(mean_nearest)\n",
    "print(mean_bilinear)\n",
    "print(mean_bicubic)\n",
    "print(mean_lanczos)\n",
    "print(mean_rcanit)"
   ]
  },
  {
   "attachments": {},
   "cell_type": "markdown",
   "metadata": {},
   "source": [
    "#### Calculate PSNR Metrics for 2x Upscaling"
   ]
  },
  {
   "cell_type": "code",
   "execution_count": 8,
   "metadata": {},
   "outputs": [
    {
     "name": "stdout",
     "output_type": "stream",
     "text": [
      "32.309020696901804\n",
      "26.56207997191186\n",
      "28.68662923925063\n",
      "29.914664287193148\n",
      "29.98026361652449\n",
      "30.01084249159869\n"
     ]
    }
   ],
   "source": [
    "values_swinir_2x, mean_swinir_2x = folder_psnr(method=\"swinir\", res=\"2x\")\n",
    "values_nearest_2x, mean_nearest_2x = folder_psnr(method=\"nearest\", res=\"2x\")\n",
    "values_bilinear_2x, mean_bilinear_2x = folder_psnr(method=\"bilinear\", res=\"2x\")\n",
    "values_bicubic_2x, mean_bicubic_2x = folder_psnr(method=\"bicubic\", res=\"2x\")\n",
    "values_lanczos_2x, mean_lanczos_2x = folder_psnr(method=\"lanczos\", res=\"2x\")\n",
    "values_rcanit_2x, mean_rcanit_2x = folder_psnr(method=\"rcanit\", res=\"2x\")\n",
    "\n",
    "\n",
    "print(mean_swinir_2x)\n",
    "print(mean_nearest_2x)\n",
    "print(mean_bilinear_2x)\n",
    "print(mean_bicubic_2x)\n",
    "print(mean_lanczos_2x)\n",
    "print(mean_rcanit_2x)"
   ]
  },
  {
   "attachments": {},
   "cell_type": "markdown",
   "metadata": {},
   "source": [
    "#### Merge metrics into a single DataFrame"
   ]
  },
  {
   "cell_type": "code",
   "execution_count": 9,
   "metadata": {},
   "outputs": [],
   "source": [
    "dct = {'SwinIR': values_swinir, 'RCANIT': values_rcanit, 'Lanczos': values_lanczos, 'Bicubic': values_bicubic, 'Bilinear': values_bilinear,  'Nearest': values_nearest}\n",
    "\n",
    "df = pd.DataFrame(dct)\n",
    "df = df.melt()"
   ]
  },
  {
   "cell_type": "code",
   "execution_count": 10,
   "metadata": {},
   "outputs": [],
   "source": [
    "dct_2x = {'SwinIR': values_swinir_2x, 'RCANIT': values_rcanit_2x, 'Lanczos': values_lanczos_2x, 'Bicubic': values_bicubic_2x, 'Bilinear': values_bilinear_2x,  'Nearest': values_nearest_2x}\n",
    "\n",
    "df_2x = pd.DataFrame(dct_2x)\n",
    "df_2x = df_2x.melt()"
   ]
  },
  {
   "cell_type": "code",
   "execution_count": 11,
   "metadata": {},
   "outputs": [],
   "source": [
    "df.columns = [\"Method\", \"PSNR_4x\"]\n",
    "# add column with 1 if method is SwinIR and 0 if not\n",
    "df['SwinIR'] = df['Method'].apply(lambda x: 1 if x == 'SwinIR' else 0)\n",
    "\n",
    "df_2x.columns = [\"Method\", \"PSNR_2x\"]\n",
    "# add column with 1 if method is SwinIR and 0 if not\n",
    "df_2x['SwinIR'] = df_2x['Method'].apply(lambda x: 1 if x == 'SwinIR' else 0)\n"
   ]
  },
  {
   "cell_type": "code",
   "execution_count": 12,
   "metadata": {},
   "outputs": [
    {
     "name": "stderr",
     "output_type": "stream",
     "text": [
      "<ipython-input-12-0f12c552c8d6>:4: UserWarning: Pandas requires version '1.4.3' or newer of 'xlsxwriter' (version '1.3.8' currently installed).\n",
      "  df.to_excel(\"psnr_metrics.xlsx\")\n"
     ]
    },
    {
     "data": {
      "text/html": [
       "<div>\n",
       "<style scoped>\n",
       "    .dataframe tbody tr th:only-of-type {\n",
       "        vertical-align: middle;\n",
       "    }\n",
       "\n",
       "    .dataframe tbody tr th {\n",
       "        vertical-align: top;\n",
       "    }\n",
       "\n",
       "    .dataframe thead th {\n",
       "        text-align: right;\n",
       "    }\n",
       "</style>\n",
       "<table border=\"1\" class=\"dataframe\">\n",
       "  <thead>\n",
       "    <tr style=\"text-align: right;\">\n",
       "      <th></th>\n",
       "      <th>Method</th>\n",
       "      <th>PSNR_4x</th>\n",
       "      <th>SwinIR</th>\n",
       "      <th>PSNR_2x</th>\n",
       "    </tr>\n",
       "  </thead>\n",
       "  <tbody>\n",
       "    <tr>\n",
       "      <th>0</th>\n",
       "      <td>SwinIR</td>\n",
       "      <td>28.490662</td>\n",
       "      <td>1</td>\n",
       "      <td>34.163120</td>\n",
       "    </tr>\n",
       "    <tr>\n",
       "      <th>1</th>\n",
       "      <td>SwinIR</td>\n",
       "      <td>28.508085</td>\n",
       "      <td>1</td>\n",
       "      <td>34.847763</td>\n",
       "    </tr>\n",
       "    <tr>\n",
       "      <th>2</th>\n",
       "      <td>SwinIR</td>\n",
       "      <td>26.211344</td>\n",
       "      <td>1</td>\n",
       "      <td>32.446194</td>\n",
       "    </tr>\n",
       "    <tr>\n",
       "      <th>3</th>\n",
       "      <td>SwinIR</td>\n",
       "      <td>26.090902</td>\n",
       "      <td>1</td>\n",
       "      <td>33.502903</td>\n",
       "    </tr>\n",
       "    <tr>\n",
       "      <th>4</th>\n",
       "      <td>SwinIR</td>\n",
       "      <td>24.664530</td>\n",
       "      <td>1</td>\n",
       "      <td>32.210293</td>\n",
       "    </tr>\n",
       "    <tr>\n",
       "      <th>...</th>\n",
       "      <td>...</td>\n",
       "      <td>...</td>\n",
       "      <td>...</td>\n",
       "      <td>...</td>\n",
       "    </tr>\n",
       "    <tr>\n",
       "      <th>301</th>\n",
       "      <td>Nearest</td>\n",
       "      <td>23.506090</td>\n",
       "      <td>0</td>\n",
       "      <td>27.142733</td>\n",
       "    </tr>\n",
       "    <tr>\n",
       "      <th>302</th>\n",
       "      <td>Nearest</td>\n",
       "      <td>22.275282</td>\n",
       "      <td>0</td>\n",
       "      <td>26.989538</td>\n",
       "    </tr>\n",
       "    <tr>\n",
       "      <th>303</th>\n",
       "      <td>Nearest</td>\n",
       "      <td>22.489822</td>\n",
       "      <td>0</td>\n",
       "      <td>26.840767</td>\n",
       "    </tr>\n",
       "    <tr>\n",
       "      <th>304</th>\n",
       "      <td>Nearest</td>\n",
       "      <td>28.257957</td>\n",
       "      <td>0</td>\n",
       "      <td>32.824631</td>\n",
       "    </tr>\n",
       "    <tr>\n",
       "      <th>305</th>\n",
       "      <td>Nearest</td>\n",
       "      <td>23.422966</td>\n",
       "      <td>0</td>\n",
       "      <td>28.076025</td>\n",
       "    </tr>\n",
       "  </tbody>\n",
       "</table>\n",
       "<p>306 rows × 4 columns</p>\n",
       "</div>"
      ],
      "text/plain": [
       "      Method    PSNR_4x  SwinIR    PSNR_2x\n",
       "0     SwinIR  28.490662       1  34.163120\n",
       "1     SwinIR  28.508085       1  34.847763\n",
       "2     SwinIR  26.211344       1  32.446194\n",
       "3     SwinIR  26.090902       1  33.502903\n",
       "4     SwinIR  24.664530       1  32.210293\n",
       "..       ...        ...     ...        ...\n",
       "301  Nearest  23.506090       0  27.142733\n",
       "302  Nearest  22.275282       0  26.989538\n",
       "303  Nearest  22.489822       0  26.840767\n",
       "304  Nearest  28.257957       0  32.824631\n",
       "305  Nearest  23.422966       0  28.076025\n",
       "\n",
       "[306 rows x 4 columns]"
      ]
     },
     "execution_count": 12,
     "metadata": {},
     "output_type": "execute_result"
    }
   ],
   "source": [
    "df[\"PSNR_2x\"] = df_2x[\"PSNR_2x\"]\n",
    "\n",
    "# excel with calculated PSNR metrics\n",
    "df.to_excel(\"psnr_metrics.xlsx\")\n",
    "df"
   ]
  },
  {
   "attachments": {},
   "cell_type": "markdown",
   "metadata": {},
   "source": [
    "#### Plotting PSNR Metrics for 2x and 4x Upscaling for an specific method"
   ]
  },
  {
   "cell_type": "code",
   "execution_count": 25,
   "metadata": {},
   "outputs": [
    {
     "data": {
      "application/vnd.plotly.v1+json": {
       "config": {
        "plotlyServerURL": "https://plot.ly"
       },
       "data": [
        {
         "boxpoints": "all",
         "legendgroup": "2x",
         "line": {
          "color": "mediumpurple"
         },
         "marker": {
          "size": 4
         },
         "name": "2x",
         "pointpos": -1.8,
         "type": "box",
         "x": [
          "RCANIT",
          "RCANIT",
          "RCANIT",
          "RCANIT",
          "RCANIT",
          "RCANIT",
          "RCANIT",
          "RCANIT",
          "RCANIT",
          "RCANIT",
          "RCANIT",
          "RCANIT",
          "RCANIT",
          "RCANIT",
          "RCANIT",
          "RCANIT",
          "RCANIT",
          "RCANIT",
          "RCANIT",
          "RCANIT",
          "RCANIT",
          "RCANIT",
          "RCANIT",
          "RCANIT",
          "RCANIT",
          "RCANIT",
          "RCANIT",
          "RCANIT",
          "RCANIT",
          "RCANIT",
          "RCANIT",
          "RCANIT",
          "RCANIT",
          "RCANIT",
          "RCANIT",
          "RCANIT",
          "RCANIT",
          "RCANIT",
          "RCANIT",
          "RCANIT",
          "RCANIT",
          "RCANIT",
          "RCANIT",
          "RCANIT",
          "RCANIT",
          "RCANIT",
          "RCANIT",
          "RCANIT",
          "RCANIT",
          "RCANIT",
          "RCANIT"
         ],
         "y": [
          32.45497512817383,
          32.93712997436523,
          31.10795593261719,
          31.40689659118652,
          29.5067138671875,
          25.06831359863281,
          33.43143463134766,
          34.78767776489258,
          29.24310111999512,
          27.76956176757812,
          30.66665077209473,
          32.92210006713867,
          30.68196296691895,
          31.55392646789551,
          28.0701847076416,
          31.9952449798584,
          27.29861450195312,
          26.37129974365234,
          25.58876609802246,
          24.95816612243652,
          29.36440467834473,
          33.56311416625977,
          23.3565502166748,
          24.4074764251709,
          29.33049011230469,
          30.8873348236084,
          32.70530319213867,
          30.88986015319824,
          32.07507705688477,
          38.34698867797852,
          27.14760398864746,
          24.11051940917969,
          28.35346031188965,
          28.63341522216797,
          25.91334342956543,
          31.81535911560059,
          26.46751403808594,
          30.62327766418457,
          33.60694885253906,
          35.67939376831055,
          32.40594482421875,
          30.78201103210449,
          27.70514106750488,
          26.24502563476562,
          28.10086822509766,
          29.49803161621094,
          30.50752830505371,
          31.08502769470215,
          29.99751472473145,
          37.10985946655273,
          32.01790237426758
         ]
        },
        {
         "boxpoints": "all",
         "legendgroup": "4x",
         "line": {
          "color": "steelblue"
         },
         "marker": {
          "size": 4
         },
         "name": "4x",
         "pointpos": -1.8,
         "type": "box",
         "x": [
          "RCANIT",
          "RCANIT",
          "RCANIT",
          "RCANIT",
          "RCANIT",
          "RCANIT",
          "RCANIT",
          "RCANIT",
          "RCANIT",
          "RCANIT",
          "RCANIT",
          "RCANIT",
          "RCANIT",
          "RCANIT",
          "RCANIT",
          "RCANIT",
          "RCANIT",
          "RCANIT",
          "RCANIT",
          "RCANIT",
          "RCANIT",
          "RCANIT",
          "RCANIT",
          "RCANIT",
          "RCANIT",
          "RCANIT",
          "RCANIT",
          "RCANIT",
          "RCANIT",
          "RCANIT",
          "RCANIT",
          "RCANIT",
          "RCANIT",
          "RCANIT",
          "RCANIT",
          "RCANIT",
          "RCANIT",
          "RCANIT",
          "RCANIT",
          "RCANIT",
          "RCANIT",
          "RCANIT",
          "RCANIT",
          "RCANIT",
          "RCANIT",
          "RCANIT",
          "RCANIT",
          "RCANIT",
          "RCANIT",
          "RCANIT",
          "RCANIT"
         ],
         "y": [
          28.46735954284668,
          28.33659172058105,
          26.0050106048584,
          25.7717227935791,
          24.55545997619629,
          21.39108848571777,
          28.50634765625,
          30.57266807556152,
          24.78045654296875,
          23.39885520935059,
          27.18818664550781,
          28.18341827392578,
          25.58218955993652,
          27.08049583435059,
          23.3388843536377,
          25.68660736083984,
          22.54859352111816,
          21.92385864257812,
          21.17226409912109,
          21.30581665039062,
          24.00978088378906,
          28.15373992919922,
          19.54805946350098,
          20.29001045227051,
          24.7678165435791,
          26.19981575012207,
          27.77782249450684,
          25.73044776916504,
          28.31608009338379,
          33.26694107055664,
          21.51724243164062,
          19.44569206237793,
          23.19913291931152,
          23.27260589599609,
          20.97660255432129,
          26.65989112854004,
          21.33203887939453,
          25.98309326171875,
          28.61834716796875,
          30.36443138122559,
          27.34026336669922,
          26.65416526794434,
          23.39229774475098,
          21.71699714660645,
          23.11202239990234,
          24.52178001403809,
          27.12540245056152,
          26.44948387145996,
          25.33924102783203,
          32.71258544921875,
          27.11447334289551
         ]
        }
       ],
       "layout": {
        "boxgap": 0.3,
        "boxgroupgap": 0.5,
        "boxmode": "group",
        "shapes": [
         {
          "line": {
           "color": "Grey",
           "width": 1
          },
          "type": "line",
          "x0": 0,
          "x1": 1,
          "xref": "x domain",
          "y0": 20,
          "y1": 20,
          "yref": "y"
         },
         {
          "line": {
           "color": "Grey",
           "width": 1
          },
          "type": "line",
          "x0": 0,
          "x1": 1,
          "xref": "x domain",
          "y0": 25,
          "y1": 25,
          "yref": "y"
         },
         {
          "line": {
           "color": "Grey",
           "width": 1
          },
          "type": "line",
          "x0": 0,
          "x1": 1,
          "xref": "x domain",
          "y0": 30,
          "y1": 30,
          "yref": "y"
         },
         {
          "line": {
           "color": "Grey",
           "width": 1
          },
          "type": "line",
          "x0": 0,
          "x1": 1,
          "xref": "x domain",
          "y0": 35,
          "y1": 35,
          "yref": "y"
         },
         {
          "line": {
           "color": "Grey",
           "width": 1
          },
          "type": "line",
          "x0": 0,
          "x1": 1,
          "xref": "x domain",
          "y0": 40,
          "y1": 40,
          "yref": "y"
         }
        ],
        "template": {
         "data": {
          "bar": [
           {
            "error_x": {
             "color": "#2a3f5f"
            },
            "error_y": {
             "color": "#2a3f5f"
            },
            "marker": {
             "line": {
              "color": "#E5ECF6",
              "width": 0.5
             },
             "pattern": {
              "fillmode": "overlay",
              "size": 10,
              "solidity": 0.2
             }
            },
            "type": "bar"
           }
          ],
          "barpolar": [
           {
            "marker": {
             "line": {
              "color": "#E5ECF6",
              "width": 0.5
             },
             "pattern": {
              "fillmode": "overlay",
              "size": 10,
              "solidity": 0.2
             }
            },
            "type": "barpolar"
           }
          ],
          "carpet": [
           {
            "aaxis": {
             "endlinecolor": "#2a3f5f",
             "gridcolor": "white",
             "linecolor": "white",
             "minorgridcolor": "white",
             "startlinecolor": "#2a3f5f"
            },
            "baxis": {
             "endlinecolor": "#2a3f5f",
             "gridcolor": "white",
             "linecolor": "white",
             "minorgridcolor": "white",
             "startlinecolor": "#2a3f5f"
            },
            "type": "carpet"
           }
          ],
          "choropleth": [
           {
            "colorbar": {
             "outlinewidth": 0,
             "ticks": ""
            },
            "type": "choropleth"
           }
          ],
          "contour": [
           {
            "colorbar": {
             "outlinewidth": 0,
             "ticks": ""
            },
            "colorscale": [
             [
              0,
              "#0d0887"
             ],
             [
              0.1111111111111111,
              "#46039f"
             ],
             [
              0.2222222222222222,
              "#7201a8"
             ],
             [
              0.3333333333333333,
              "#9c179e"
             ],
             [
              0.4444444444444444,
              "#bd3786"
             ],
             [
              0.5555555555555556,
              "#d8576b"
             ],
             [
              0.6666666666666666,
              "#ed7953"
             ],
             [
              0.7777777777777778,
              "#fb9f3a"
             ],
             [
              0.8888888888888888,
              "#fdca26"
             ],
             [
              1,
              "#f0f921"
             ]
            ],
            "type": "contour"
           }
          ],
          "contourcarpet": [
           {
            "colorbar": {
             "outlinewidth": 0,
             "ticks": ""
            },
            "type": "contourcarpet"
           }
          ],
          "heatmap": [
           {
            "colorbar": {
             "outlinewidth": 0,
             "ticks": ""
            },
            "colorscale": [
             [
              0,
              "#0d0887"
             ],
             [
              0.1111111111111111,
              "#46039f"
             ],
             [
              0.2222222222222222,
              "#7201a8"
             ],
             [
              0.3333333333333333,
              "#9c179e"
             ],
             [
              0.4444444444444444,
              "#bd3786"
             ],
             [
              0.5555555555555556,
              "#d8576b"
             ],
             [
              0.6666666666666666,
              "#ed7953"
             ],
             [
              0.7777777777777778,
              "#fb9f3a"
             ],
             [
              0.8888888888888888,
              "#fdca26"
             ],
             [
              1,
              "#f0f921"
             ]
            ],
            "type": "heatmap"
           }
          ],
          "heatmapgl": [
           {
            "colorbar": {
             "outlinewidth": 0,
             "ticks": ""
            },
            "colorscale": [
             [
              0,
              "#0d0887"
             ],
             [
              0.1111111111111111,
              "#46039f"
             ],
             [
              0.2222222222222222,
              "#7201a8"
             ],
             [
              0.3333333333333333,
              "#9c179e"
             ],
             [
              0.4444444444444444,
              "#bd3786"
             ],
             [
              0.5555555555555556,
              "#d8576b"
             ],
             [
              0.6666666666666666,
              "#ed7953"
             ],
             [
              0.7777777777777778,
              "#fb9f3a"
             ],
             [
              0.8888888888888888,
              "#fdca26"
             ],
             [
              1,
              "#f0f921"
             ]
            ],
            "type": "heatmapgl"
           }
          ],
          "histogram": [
           {
            "marker": {
             "pattern": {
              "fillmode": "overlay",
              "size": 10,
              "solidity": 0.2
             }
            },
            "type": "histogram"
           }
          ],
          "histogram2d": [
           {
            "colorbar": {
             "outlinewidth": 0,
             "ticks": ""
            },
            "colorscale": [
             [
              0,
              "#0d0887"
             ],
             [
              0.1111111111111111,
              "#46039f"
             ],
             [
              0.2222222222222222,
              "#7201a8"
             ],
             [
              0.3333333333333333,
              "#9c179e"
             ],
             [
              0.4444444444444444,
              "#bd3786"
             ],
             [
              0.5555555555555556,
              "#d8576b"
             ],
             [
              0.6666666666666666,
              "#ed7953"
             ],
             [
              0.7777777777777778,
              "#fb9f3a"
             ],
             [
              0.8888888888888888,
              "#fdca26"
             ],
             [
              1,
              "#f0f921"
             ]
            ],
            "type": "histogram2d"
           }
          ],
          "histogram2dcontour": [
           {
            "colorbar": {
             "outlinewidth": 0,
             "ticks": ""
            },
            "colorscale": [
             [
              0,
              "#0d0887"
             ],
             [
              0.1111111111111111,
              "#46039f"
             ],
             [
              0.2222222222222222,
              "#7201a8"
             ],
             [
              0.3333333333333333,
              "#9c179e"
             ],
             [
              0.4444444444444444,
              "#bd3786"
             ],
             [
              0.5555555555555556,
              "#d8576b"
             ],
             [
              0.6666666666666666,
              "#ed7953"
             ],
             [
              0.7777777777777778,
              "#fb9f3a"
             ],
             [
              0.8888888888888888,
              "#fdca26"
             ],
             [
              1,
              "#f0f921"
             ]
            ],
            "type": "histogram2dcontour"
           }
          ],
          "mesh3d": [
           {
            "colorbar": {
             "outlinewidth": 0,
             "ticks": ""
            },
            "type": "mesh3d"
           }
          ],
          "parcoords": [
           {
            "line": {
             "colorbar": {
              "outlinewidth": 0,
              "ticks": ""
             }
            },
            "type": "parcoords"
           }
          ],
          "pie": [
           {
            "automargin": true,
            "type": "pie"
           }
          ],
          "scatter": [
           {
            "fillpattern": {
             "fillmode": "overlay",
             "size": 10,
             "solidity": 0.2
            },
            "type": "scatter"
           }
          ],
          "scatter3d": [
           {
            "line": {
             "colorbar": {
              "outlinewidth": 0,
              "ticks": ""
             }
            },
            "marker": {
             "colorbar": {
              "outlinewidth": 0,
              "ticks": ""
             }
            },
            "type": "scatter3d"
           }
          ],
          "scattercarpet": [
           {
            "marker": {
             "colorbar": {
              "outlinewidth": 0,
              "ticks": ""
             }
            },
            "type": "scattercarpet"
           }
          ],
          "scattergeo": [
           {
            "marker": {
             "colorbar": {
              "outlinewidth": 0,
              "ticks": ""
             }
            },
            "type": "scattergeo"
           }
          ],
          "scattergl": [
           {
            "marker": {
             "colorbar": {
              "outlinewidth": 0,
              "ticks": ""
             }
            },
            "type": "scattergl"
           }
          ],
          "scattermapbox": [
           {
            "marker": {
             "colorbar": {
              "outlinewidth": 0,
              "ticks": ""
             }
            },
            "type": "scattermapbox"
           }
          ],
          "scatterpolar": [
           {
            "marker": {
             "colorbar": {
              "outlinewidth": 0,
              "ticks": ""
             }
            },
            "type": "scatterpolar"
           }
          ],
          "scatterpolargl": [
           {
            "marker": {
             "colorbar": {
              "outlinewidth": 0,
              "ticks": ""
             }
            },
            "type": "scatterpolargl"
           }
          ],
          "scatterternary": [
           {
            "marker": {
             "colorbar": {
              "outlinewidth": 0,
              "ticks": ""
             }
            },
            "type": "scatterternary"
           }
          ],
          "surface": [
           {
            "colorbar": {
             "outlinewidth": 0,
             "ticks": ""
            },
            "colorscale": [
             [
              0,
              "#0d0887"
             ],
             [
              0.1111111111111111,
              "#46039f"
             ],
             [
              0.2222222222222222,
              "#7201a8"
             ],
             [
              0.3333333333333333,
              "#9c179e"
             ],
             [
              0.4444444444444444,
              "#bd3786"
             ],
             [
              0.5555555555555556,
              "#d8576b"
             ],
             [
              0.6666666666666666,
              "#ed7953"
             ],
             [
              0.7777777777777778,
              "#fb9f3a"
             ],
             [
              0.8888888888888888,
              "#fdca26"
             ],
             [
              1,
              "#f0f921"
             ]
            ],
            "type": "surface"
           }
          ],
          "table": [
           {
            "cells": {
             "fill": {
              "color": "#EBF0F8"
             },
             "line": {
              "color": "white"
             }
            },
            "header": {
             "fill": {
              "color": "#C8D4E3"
             },
             "line": {
              "color": "white"
             }
            },
            "type": "table"
           }
          ]
         },
         "layout": {
          "annotationdefaults": {
           "arrowcolor": "#2a3f5f",
           "arrowhead": 0,
           "arrowwidth": 1
          },
          "autotypenumbers": "strict",
          "coloraxis": {
           "colorbar": {
            "outlinewidth": 0,
            "ticks": ""
           }
          },
          "colorscale": {
           "diverging": [
            [
             0,
             "#8e0152"
            ],
            [
             0.1,
             "#c51b7d"
            ],
            [
             0.2,
             "#de77ae"
            ],
            [
             0.3,
             "#f1b6da"
            ],
            [
             0.4,
             "#fde0ef"
            ],
            [
             0.5,
             "#f7f7f7"
            ],
            [
             0.6,
             "#e6f5d0"
            ],
            [
             0.7,
             "#b8e186"
            ],
            [
             0.8,
             "#7fbc41"
            ],
            [
             0.9,
             "#4d9221"
            ],
            [
             1,
             "#276419"
            ]
           ],
           "sequential": [
            [
             0,
             "#0d0887"
            ],
            [
             0.1111111111111111,
             "#46039f"
            ],
            [
             0.2222222222222222,
             "#7201a8"
            ],
            [
             0.3333333333333333,
             "#9c179e"
            ],
            [
             0.4444444444444444,
             "#bd3786"
            ],
            [
             0.5555555555555556,
             "#d8576b"
            ],
            [
             0.6666666666666666,
             "#ed7953"
            ],
            [
             0.7777777777777778,
             "#fb9f3a"
            ],
            [
             0.8888888888888888,
             "#fdca26"
            ],
            [
             1,
             "#f0f921"
            ]
           ],
           "sequentialminus": [
            [
             0,
             "#0d0887"
            ],
            [
             0.1111111111111111,
             "#46039f"
            ],
            [
             0.2222222222222222,
             "#7201a8"
            ],
            [
             0.3333333333333333,
             "#9c179e"
            ],
            [
             0.4444444444444444,
             "#bd3786"
            ],
            [
             0.5555555555555556,
             "#d8576b"
            ],
            [
             0.6666666666666666,
             "#ed7953"
            ],
            [
             0.7777777777777778,
             "#fb9f3a"
            ],
            [
             0.8888888888888888,
             "#fdca26"
            ],
            [
             1,
             "#f0f921"
            ]
           ]
          },
          "colorway": [
           "#636efa",
           "#EF553B",
           "#00cc96",
           "#ab63fa",
           "#FFA15A",
           "#19d3f3",
           "#FF6692",
           "#B6E880",
           "#FF97FF",
           "#FECB52"
          ],
          "font": {
           "color": "#2a3f5f"
          },
          "geo": {
           "bgcolor": "white",
           "lakecolor": "white",
           "landcolor": "#E5ECF6",
           "showlakes": true,
           "showland": true,
           "subunitcolor": "white"
          },
          "hoverlabel": {
           "align": "left"
          },
          "hovermode": "closest",
          "mapbox": {
           "style": "light"
          },
          "paper_bgcolor": "white",
          "plot_bgcolor": "#E5ECF6",
          "polar": {
           "angularaxis": {
            "gridcolor": "white",
            "linecolor": "white",
            "ticks": ""
           },
           "bgcolor": "#E5ECF6",
           "radialaxis": {
            "gridcolor": "white",
            "linecolor": "white",
            "ticks": ""
           }
          },
          "scene": {
           "xaxis": {
            "backgroundcolor": "#E5ECF6",
            "gridcolor": "white",
            "gridwidth": 2,
            "linecolor": "white",
            "showbackground": true,
            "ticks": "",
            "zerolinecolor": "white"
           },
           "yaxis": {
            "backgroundcolor": "#E5ECF6",
            "gridcolor": "white",
            "gridwidth": 2,
            "linecolor": "white",
            "showbackground": true,
            "ticks": "",
            "zerolinecolor": "white"
           },
           "zaxis": {
            "backgroundcolor": "#E5ECF6",
            "gridcolor": "white",
            "gridwidth": 2,
            "linecolor": "white",
            "showbackground": true,
            "ticks": "",
            "zerolinecolor": "white"
           }
          },
          "shapedefaults": {
           "line": {
            "color": "#2a3f5f"
           }
          },
          "ternary": {
           "aaxis": {
            "gridcolor": "white",
            "linecolor": "white",
            "ticks": ""
           },
           "baxis": {
            "gridcolor": "white",
            "linecolor": "white",
            "ticks": ""
           },
           "bgcolor": "#E5ECF6",
           "caxis": {
            "gridcolor": "white",
            "linecolor": "white",
            "ticks": ""
           }
          },
          "title": {
           "x": 0.05
          },
          "xaxis": {
           "automargin": true,
           "gridcolor": "white",
           "linecolor": "white",
           "ticks": "",
           "title": {
            "standoff": 15
           },
           "zerolinecolor": "white",
           "zerolinewidth": 2
          },
          "yaxis": {
           "automargin": true,
           "gridcolor": "white",
           "linecolor": "white",
           "ticks": "",
           "title": {
            "standoff": 15
           },
           "zerolinecolor": "white",
           "zerolinewidth": 2
          }
         }
        },
        "title": {
         "text": "PSNR values for 2x and 4x upscaing using RCANIT",
         "x": 0.5
        },
        "xaxis": {
         "title": {
          "text": "Upscaling Method"
         }
        },
        "yaxis": {
         "gridcolor": "LightGrey",
         "gridwidth": 0.5,
         "layer": "below traces",
         "showgrid": true,
         "ticktext": [
          0,
          " ",
          " ",
          " ",
          " ",
          5,
          " ",
          " ",
          " ",
          " ",
          10,
          " ",
          " ",
          " ",
          " ",
          15,
          " ",
          " ",
          " ",
          " ",
          20,
          " ",
          " ",
          " ",
          " ",
          25,
          " ",
          " ",
          " ",
          " ",
          30,
          " ",
          " ",
          " ",
          " ",
          35,
          " ",
          " ",
          " ",
          " ",
          40,
          " ",
          " ",
          " ",
          " ",
          45,
          " ",
          " ",
          " ",
          " "
         ],
         "tickvals": [
          0,
          1,
          2,
          3,
          4,
          5,
          6,
          7,
          8,
          9,
          10,
          11,
          12,
          13,
          14,
          15,
          16,
          17,
          18,
          19,
          20,
          21,
          22,
          23,
          24,
          25,
          26,
          27,
          28,
          29,
          30,
          31,
          32,
          33,
          34,
          35,
          36,
          37,
          38,
          39,
          40,
          41,
          42,
          43,
          44,
          45,
          46,
          47,
          48,
          49
         ],
         "title": {
          "text": "PSNR"
         }
        }
       }
      }
     },
     "metadata": {},
     "output_type": "display_data"
    }
   ],
   "source": [
    "import plotly.graph_objects as go\n",
    "import plotly.express as px\n",
    "\n",
    "\n",
    "\n",
    "# Choose method RCANIT, SwinIR, Nearest, Lanczos, Bilinear, Bicubic\n",
    "\n",
    "METHOD = \"RCANIT\"\n",
    "# Read from checkpoint \n",
    "df = pd.read_excel(\"psnr_metrics.xlsx\")\n",
    "df = df.drop(columns=['Unnamed: 0'])\n",
    "df = df[df['Method'] == METHOD] # <-- Method to choose\n",
    "\n",
    "\n",
    "\n",
    "\n",
    "fig = go.Figure()\n",
    "\n",
    "fig.add_hline(y=20, line=dict(color='Grey', width=1))\n",
    "fig.add_hline(y=25, line=dict(color='Grey', width=1))\n",
    "fig.add_hline(y=30, line=dict(color='Grey', width=1))\n",
    "fig.add_hline(y=35, line=dict(color='Grey', width=1))\n",
    "fig.add_hline(y=40, line=dict(color='Grey', width=1))\n",
    "\n",
    "\n",
    "fig.update_layout(title_text=f'PSNR values for 2x and 4x upscaing using {METHOD}', title_x=0.5)\n",
    "fig.add_trace(go.Box(x=df['Method'],\n",
    "                        y=df[\"PSNR_2x\"],\n",
    "                        legendgroup='2x', name='2x',\n",
    "                        line_color='mediumpurple', boxpoints='all',pointpos=-1.8, marker=dict(size=4))\n",
    "                        \n",
    "\n",
    "             )\n",
    "fig.add_trace(go.Box(x=df['Method'],\n",
    "                        y=df[\"PSNR_4x\"],\n",
    "                        legendgroup='4x', name='4x',\n",
    "                        line_color='steelblue', boxpoints='all',pointpos=-1.8, marker=dict(size=4))\n",
    "             )\n",
    "\n",
    "#fig.update_traces(box_visible=True)\n",
    "fig.update_layout(boxmode='group')\n",
    "fig.update_layout(boxgroupgap=0.5, boxgap=0.3)\n",
    "fig.update_layout(\n",
    "\n",
    "    xaxis_title=\"Upscaling Method\",\n",
    "    yaxis_title=\"PSNR\")\n",
    "\n",
    "# write y-axis title horizontally\n",
    "# fig.update_yaxes(title_text=\"PSNR\", title_standoff=0, tickangle=0)\n",
    "\n",
    "fig.update_yaxes(showgrid=True, gridwidth=0.5, gridcolor='LightGrey', \n",
    "                 tickvals=[t for t in range(0, 50, 1)],\n",
    "                 ticktext=[t if (t%5)==0 else \" \" for t in range(0, 50, 1)],\n",
    "                 layer='below traces'             \n",
    "                )\n",
    "#fig.update_xaxes(showline=True, linewidth=2, linecolor='black')\n",
    "\n",
    "fig.show()"
   ]
  },
  {
   "cell_type": "code",
   "execution_count": 26,
   "metadata": {},
   "outputs": [],
   "source": [
    "dct = {'SwinIR': values_swinir, 'RCANIT': values_rcanit, 'Lanczos': values_lanczos, 'Bicubic': values_bicubic, 'Bilinear': values_bilinear,  'Nearest': values_nearest}\n",
    "\n",
    "df = pd.DataFrame(dct)\n",
    "df = df.melt()"
   ]
  },
  {
   "cell_type": "code",
   "execution_count": 27,
   "metadata": {},
   "outputs": [],
   "source": [
    "df.columns = [\"Method\", \"PSNR\"]\n",
    "# add column with 1 if method is SwinIR and 0 if not\n",
    "df['SwinIR'] = df['Method'].apply(lambda x: 1 if x == 'SwinIR' else 0)\n"
   ]
  },
  {
   "attachments": {},
   "cell_type": "markdown",
   "metadata": {},
   "source": [
    "### Plotting all figures together"
   ]
  },
  {
   "cell_type": "code",
   "execution_count": 28,
   "metadata": {},
   "outputs": [
    {
     "data": {
      "application/vnd.plotly.v1+json": {
       "config": {
        "plotlyServerURL": "https://plot.ly"
       },
       "data": [
        {
         "alignmentgroup": "True",
         "box": {
          "visible": true
         },
         "hovertemplate": "Method=%{x}<br>PSNR=%{y}<extra></extra>",
         "legendgroup": "",
         "marker": {
          "color": "#636efa"
         },
         "name": "",
         "offsetgroup": "",
         "orientation": "v",
         "points": "all",
         "scalegroup": "True",
         "showlegend": false,
         "type": "violin",
         "x": [
          "SwinIR",
          "SwinIR",
          "SwinIR",
          "SwinIR",
          "SwinIR",
          "SwinIR",
          "SwinIR",
          "SwinIR",
          "SwinIR",
          "SwinIR",
          "SwinIR",
          "SwinIR",
          "SwinIR",
          "SwinIR",
          "SwinIR",
          "SwinIR",
          "SwinIR",
          "SwinIR",
          "SwinIR",
          "SwinIR",
          "SwinIR",
          "SwinIR",
          "SwinIR",
          "SwinIR",
          "SwinIR",
          "SwinIR",
          "SwinIR",
          "SwinIR",
          "SwinIR",
          "SwinIR",
          "SwinIR",
          "SwinIR",
          "SwinIR",
          "SwinIR",
          "SwinIR",
          "SwinIR",
          "SwinIR",
          "SwinIR",
          "SwinIR",
          "SwinIR",
          "SwinIR",
          "SwinIR",
          "SwinIR",
          "SwinIR",
          "SwinIR",
          "SwinIR",
          "SwinIR",
          "SwinIR",
          "SwinIR",
          "SwinIR",
          "SwinIR",
          "RCANIT",
          "RCANIT",
          "RCANIT",
          "RCANIT",
          "RCANIT",
          "RCANIT",
          "RCANIT",
          "RCANIT",
          "RCANIT",
          "RCANIT",
          "RCANIT",
          "RCANIT",
          "RCANIT",
          "RCANIT",
          "RCANIT",
          "RCANIT",
          "RCANIT",
          "RCANIT",
          "RCANIT",
          "RCANIT",
          "RCANIT",
          "RCANIT",
          "RCANIT",
          "RCANIT",
          "RCANIT",
          "RCANIT",
          "RCANIT",
          "RCANIT",
          "RCANIT",
          "RCANIT",
          "RCANIT",
          "RCANIT",
          "RCANIT",
          "RCANIT",
          "RCANIT",
          "RCANIT",
          "RCANIT",
          "RCANIT",
          "RCANIT",
          "RCANIT",
          "RCANIT",
          "RCANIT",
          "RCANIT",
          "RCANIT",
          "RCANIT",
          "RCANIT",
          "RCANIT",
          "RCANIT",
          "RCANIT",
          "RCANIT",
          "RCANIT",
          "Lanczos",
          "Lanczos",
          "Lanczos",
          "Lanczos",
          "Lanczos",
          "Lanczos",
          "Lanczos",
          "Lanczos",
          "Lanczos",
          "Lanczos",
          "Lanczos",
          "Lanczos",
          "Lanczos",
          "Lanczos",
          "Lanczos",
          "Lanczos",
          "Lanczos",
          "Lanczos",
          "Lanczos",
          "Lanczos",
          "Lanczos",
          "Lanczos",
          "Lanczos",
          "Lanczos",
          "Lanczos",
          "Lanczos",
          "Lanczos",
          "Lanczos",
          "Lanczos",
          "Lanczos",
          "Lanczos",
          "Lanczos",
          "Lanczos",
          "Lanczos",
          "Lanczos",
          "Lanczos",
          "Lanczos",
          "Lanczos",
          "Lanczos",
          "Lanczos",
          "Lanczos",
          "Lanczos",
          "Lanczos",
          "Lanczos",
          "Lanczos",
          "Lanczos",
          "Lanczos",
          "Lanczos",
          "Lanczos",
          "Lanczos",
          "Lanczos",
          "Bicubic",
          "Bicubic",
          "Bicubic",
          "Bicubic",
          "Bicubic",
          "Bicubic",
          "Bicubic",
          "Bicubic",
          "Bicubic",
          "Bicubic",
          "Bicubic",
          "Bicubic",
          "Bicubic",
          "Bicubic",
          "Bicubic",
          "Bicubic",
          "Bicubic",
          "Bicubic",
          "Bicubic",
          "Bicubic",
          "Bicubic",
          "Bicubic",
          "Bicubic",
          "Bicubic",
          "Bicubic",
          "Bicubic",
          "Bicubic",
          "Bicubic",
          "Bicubic",
          "Bicubic",
          "Bicubic",
          "Bicubic",
          "Bicubic",
          "Bicubic",
          "Bicubic",
          "Bicubic",
          "Bicubic",
          "Bicubic",
          "Bicubic",
          "Bicubic",
          "Bicubic",
          "Bicubic",
          "Bicubic",
          "Bicubic",
          "Bicubic",
          "Bicubic",
          "Bicubic",
          "Bicubic",
          "Bicubic",
          "Bicubic",
          "Bicubic",
          "Bilinear",
          "Bilinear",
          "Bilinear",
          "Bilinear",
          "Bilinear",
          "Bilinear",
          "Bilinear",
          "Bilinear",
          "Bilinear",
          "Bilinear",
          "Bilinear",
          "Bilinear",
          "Bilinear",
          "Bilinear",
          "Bilinear",
          "Bilinear",
          "Bilinear",
          "Bilinear",
          "Bilinear",
          "Bilinear",
          "Bilinear",
          "Bilinear",
          "Bilinear",
          "Bilinear",
          "Bilinear",
          "Bilinear",
          "Bilinear",
          "Bilinear",
          "Bilinear",
          "Bilinear",
          "Bilinear",
          "Bilinear",
          "Bilinear",
          "Bilinear",
          "Bilinear",
          "Bilinear",
          "Bilinear",
          "Bilinear",
          "Bilinear",
          "Bilinear",
          "Bilinear",
          "Bilinear",
          "Bilinear",
          "Bilinear",
          "Bilinear",
          "Bilinear",
          "Bilinear",
          "Bilinear",
          "Bilinear",
          "Bilinear",
          "Bilinear",
          "Nearest",
          "Nearest",
          "Nearest",
          "Nearest",
          "Nearest",
          "Nearest",
          "Nearest",
          "Nearest",
          "Nearest",
          "Nearest",
          "Nearest",
          "Nearest",
          "Nearest",
          "Nearest",
          "Nearest",
          "Nearest",
          "Nearest",
          "Nearest",
          "Nearest",
          "Nearest",
          "Nearest",
          "Nearest",
          "Nearest",
          "Nearest",
          "Nearest",
          "Nearest",
          "Nearest",
          "Nearest",
          "Nearest",
          "Nearest",
          "Nearest",
          "Nearest",
          "Nearest",
          "Nearest",
          "Nearest",
          "Nearest",
          "Nearest",
          "Nearest",
          "Nearest",
          "Nearest",
          "Nearest",
          "Nearest",
          "Nearest",
          "Nearest",
          "Nearest",
          "Nearest",
          "Nearest",
          "Nearest",
          "Nearest",
          "Nearest",
          "Nearest"
         ],
         "x0": " ",
         "xaxis": "x",
         "y": [
          28.49066162109375,
          28.508085250854492,
          26.21134376525879,
          26.09090232849121,
          24.66452980041504,
          21.49103546142578,
          28.608352661132812,
          30.817419052124023,
          24.950210571289062,
          23.59632682800293,
          27.04423713684082,
          28.58348274230957,
          25.591293334960938,
          27.38279151916504,
          23.51982307434082,
          25.80690574645996,
          22.686147689819336,
          22.089248657226562,
          21.449338912963867,
          21.286407470703125,
          24.065141677856445,
          28.45515251159668,
          19.608964920043945,
          20.374832153320312,
          24.8713436126709,
          26.403867721557617,
          27.506624221801758,
          25.77066993713379,
          28.152421951293945,
          32.77311325073242,
          21.633102416992188,
          19.554677963256836,
          23.621854782104492,
          23.709260940551758,
          21.216577529907227,
          26.79432487487793,
          21.425989151000977,
          26.02732276916504,
          28.844680786132812,
          30.664480209350586,
          27.501976013183594,
          26.815683364868164,
          23.63614845275879,
          21.932281494140625,
          23.103708267211914,
          24.583274841308594,
          27.375478744506836,
          26.682222366333008,
          25.556142807006836,
          33.22177505493164,
          27.268442153930664,
          28.46735954284668,
          28.336591720581055,
          26.0050106048584,
          25.7717227935791,
          24.55545997619629,
          21.391088485717773,
          28.50634765625,
          30.572668075561523,
          24.78045654296875,
          23.398855209350586,
          27.188186645507812,
          28.18341827392578,
          25.582189559936523,
          27.080495834350586,
          23.338884353637695,
          25.686607360839844,
          22.548593521118164,
          21.923858642578125,
          21.172264099121094,
          21.305816650390625,
          24.009780883789062,
          28.15373992919922,
          19.548059463500977,
          20.290010452270508,
          24.7678165435791,
          26.19981575012207,
          27.777822494506836,
          25.73044776916504,
          28.31608009338379,
          33.26694107055664,
          21.517242431640625,
          19.44569206237793,
          23.199132919311523,
          23.272605895996094,
          20.97660255432129,
          26.65989112854004,
          21.33203887939453,
          25.98309326171875,
          28.61834716796875,
          30.364431381225586,
          27.34026336669922,
          26.654165267944336,
          23.392297744750977,
          21.716997146606445,
          23.112022399902344,
          24.521780014038086,
          27.125402450561523,
          26.44948387145996,
          25.33924102783203,
          32.71258544921875,
          27.114473342895508,
          27.255151748657227,
          27.6560115814209,
          24.834732055664062,
          25.13262367248535,
          23.105138778686523,
          21.03955078125,
          27.412668228149414,
          29.3724308013916,
          23.672311782836914,
          22.763120651245117,
          27.2547664642334,
          27.303159713745117,
          24.989797592163086,
          26.379899978637695,
          22.427499771118164,
          24.402517318725586,
          21.60723876953125,
          21.094867706298828,
          20.04253578186035,
          20.87071418762207,
          23.071487426757812,
          26.814186096191406,
          19.056730270385742,
          19.858083724975586,
          24.16196632385254,
          25.045860290527344,
          27.7403621673584,
          25.503211975097656,
          27.153213500976562,
          33.05301284790039,
          21.13038444519043,
          18.723196029663086,
          21.415542602539062,
          21.35009002685547,
          19.873291015625,
          25.838003158569336,
          19.8006534576416,
          24.44764518737793,
          28.177186965942383,
          29.735536575317383,
          26.232385635375977,
          26.155771255493164,
          23.07173728942871,
          21.22181510925293,
          22.266870498657227,
          23.90789222717285,
          25.53485107421875,
          25.213518142700195,
          24.53388023376465,
          31.103086471557617,
          25.955764770507812,
          27.043542861938477,
          27.40009307861328,
          24.556154251098633,
          24.807106018066406,
          22.834596633911133,
          20.8759822845459,
          27.10321044921875,
          29.15547752380371,
          23.450159072875977,
          22.557710647583008,
          26.927656173706055,
          27.064634323120117,
          24.678884506225586,
          26.1444091796875,
          22.128023147583008,
          23.985525131225586,
          21.32603645324707,
          20.85039520263672,
          19.748414993286133,
          20.68428611755371,
          22.767074584960938,
          26.51500701904297,
          18.86945152282715,
          19.639312744140625,
          23.88587760925293,
          24.753080368041992,
          27.44594383239746,
          25.211807250976562,
          26.821264266967773,
          32.50503158569336,
          20.772432327270508,
          18.469444274902344,
          21.183731079101562,
          21.07168197631836,
          19.683137893676758,
          25.56523323059082,
          19.49363899230957,
          24.12925910949707,
          27.784582138061523,
          29.41156005859375,
          25.905746459960938,
          25.96321678161621,
          22.83740997314453,
          21.020410537719727,
          21.97731590270996,
          23.61456298828125,
          25.317110061645508,
          24.901704788208008,
          24.252798080444336,
          30.831777572631836,
          25.618850708007812,
          26.566503524780273,
          26.744094848632812,
          23.89052391052246,
          24.024320602416992,
          22.1535701751709,
          20.47877311706543,
          26.359975814819336,
          28.607160568237305,
          22.895837783813477,
          22.06367301940918,
          26.151657104492188,
          26.477783203125,
          23.95477867126465,
          25.57240867614746,
          21.433626174926758,
          23.043701171875,
          20.63608741760254,
          20.277334213256836,
          19.08757209777832,
          20.23200225830078,
          22.051193237304688,
          25.789825439453125,
          18.434032440185547,
          19.14719009399414,
          23.234840393066406,
          24.048803329467773,
          26.7215576171875,
          24.528615951538086,
          26.047487258911133,
          31.304771423339844,
          19.978363037109375,
          17.8641300201416,
          20.66214370727539,
          20.46985626220703,
          19.220428466796875,
          24.91478729248047,
          18.82122802734375,
          23.357519149780273,
          26.843942642211914,
          28.652536392211914,
          25.172170639038086,
          25.4921875,
          22.30320167541504,
          20.551071166992188,
          21.302724838256836,
          22.93109130859375,
          24.728271484375,
          24.11806297302246,
          23.608686447143555,
          30.146310806274414,
          24.840028762817383,
          25.55430793762207,
          25.123748779296875,
          22.4490909576416,
          22.58417320251465,
          20.869752883911133,
          19.847864151000977,
          24.999921798706055,
          27.70049476623535,
          21.768112182617188,
          21.225309371948242,
          24.720998764038086,
          25.140281677246094,
          22.749801635742188,
          24.55708122253418,
          20.133888244628906,
          21.350011825561523,
          19.424659729003906,
          19.313003540039062,
          17.99799919128418,
          19.580739974975586,
          20.856279373168945,
          24.31005859375,
          17.81525230407715,
          18.476707458496094,
          22.280410766601562,
          22.750516891479492,
          25.405454635620117,
          23.30600929260254,
          24.535743713378906,
          28.821561813354492,
          18.826950073242188,
          16.861486434936523,
          19.943981170654297,
          19.630720138549805,
          18.635923385620117,
          23.907018661499023,
          17.95598793029785,
          21.807565689086914,
          25.096031188964844,
          27.17159080505371,
          23.788476943969727,
          24.702621459960938,
          21.432100296020508,
          19.864730834960938,
          20.20374870300293,
          21.73737907409668,
          23.50609016418457,
          22.27528190612793,
          22.489822387695312,
          28.257957458496094,
          23.42296600341797
         ],
         "y0": " ",
         "yaxis": "y"
        }
       ],
       "layout": {
        "legend": {
         "tracegroupgap": 0
        },
        "margin": {
         "t": 60
        },
        "showlegend": false,
        "template": {
         "data": {
          "bar": [
           {
            "error_x": {
             "color": "#2a3f5f"
            },
            "error_y": {
             "color": "#2a3f5f"
            },
            "marker": {
             "line": {
              "color": "#E5ECF6",
              "width": 0.5
             },
             "pattern": {
              "fillmode": "overlay",
              "size": 10,
              "solidity": 0.2
             }
            },
            "type": "bar"
           }
          ],
          "barpolar": [
           {
            "marker": {
             "line": {
              "color": "#E5ECF6",
              "width": 0.5
             },
             "pattern": {
              "fillmode": "overlay",
              "size": 10,
              "solidity": 0.2
             }
            },
            "type": "barpolar"
           }
          ],
          "carpet": [
           {
            "aaxis": {
             "endlinecolor": "#2a3f5f",
             "gridcolor": "white",
             "linecolor": "white",
             "minorgridcolor": "white",
             "startlinecolor": "#2a3f5f"
            },
            "baxis": {
             "endlinecolor": "#2a3f5f",
             "gridcolor": "white",
             "linecolor": "white",
             "minorgridcolor": "white",
             "startlinecolor": "#2a3f5f"
            },
            "type": "carpet"
           }
          ],
          "choropleth": [
           {
            "colorbar": {
             "outlinewidth": 0,
             "ticks": ""
            },
            "type": "choropleth"
           }
          ],
          "contour": [
           {
            "colorbar": {
             "outlinewidth": 0,
             "ticks": ""
            },
            "colorscale": [
             [
              0,
              "#0d0887"
             ],
             [
              0.1111111111111111,
              "#46039f"
             ],
             [
              0.2222222222222222,
              "#7201a8"
             ],
             [
              0.3333333333333333,
              "#9c179e"
             ],
             [
              0.4444444444444444,
              "#bd3786"
             ],
             [
              0.5555555555555556,
              "#d8576b"
             ],
             [
              0.6666666666666666,
              "#ed7953"
             ],
             [
              0.7777777777777778,
              "#fb9f3a"
             ],
             [
              0.8888888888888888,
              "#fdca26"
             ],
             [
              1,
              "#f0f921"
             ]
            ],
            "type": "contour"
           }
          ],
          "contourcarpet": [
           {
            "colorbar": {
             "outlinewidth": 0,
             "ticks": ""
            },
            "type": "contourcarpet"
           }
          ],
          "heatmap": [
           {
            "colorbar": {
             "outlinewidth": 0,
             "ticks": ""
            },
            "colorscale": [
             [
              0,
              "#0d0887"
             ],
             [
              0.1111111111111111,
              "#46039f"
             ],
             [
              0.2222222222222222,
              "#7201a8"
             ],
             [
              0.3333333333333333,
              "#9c179e"
             ],
             [
              0.4444444444444444,
              "#bd3786"
             ],
             [
              0.5555555555555556,
              "#d8576b"
             ],
             [
              0.6666666666666666,
              "#ed7953"
             ],
             [
              0.7777777777777778,
              "#fb9f3a"
             ],
             [
              0.8888888888888888,
              "#fdca26"
             ],
             [
              1,
              "#f0f921"
             ]
            ],
            "type": "heatmap"
           }
          ],
          "heatmapgl": [
           {
            "colorbar": {
             "outlinewidth": 0,
             "ticks": ""
            },
            "colorscale": [
             [
              0,
              "#0d0887"
             ],
             [
              0.1111111111111111,
              "#46039f"
             ],
             [
              0.2222222222222222,
              "#7201a8"
             ],
             [
              0.3333333333333333,
              "#9c179e"
             ],
             [
              0.4444444444444444,
              "#bd3786"
             ],
             [
              0.5555555555555556,
              "#d8576b"
             ],
             [
              0.6666666666666666,
              "#ed7953"
             ],
             [
              0.7777777777777778,
              "#fb9f3a"
             ],
             [
              0.8888888888888888,
              "#fdca26"
             ],
             [
              1,
              "#f0f921"
             ]
            ],
            "type": "heatmapgl"
           }
          ],
          "histogram": [
           {
            "marker": {
             "pattern": {
              "fillmode": "overlay",
              "size": 10,
              "solidity": 0.2
             }
            },
            "type": "histogram"
           }
          ],
          "histogram2d": [
           {
            "colorbar": {
             "outlinewidth": 0,
             "ticks": ""
            },
            "colorscale": [
             [
              0,
              "#0d0887"
             ],
             [
              0.1111111111111111,
              "#46039f"
             ],
             [
              0.2222222222222222,
              "#7201a8"
             ],
             [
              0.3333333333333333,
              "#9c179e"
             ],
             [
              0.4444444444444444,
              "#bd3786"
             ],
             [
              0.5555555555555556,
              "#d8576b"
             ],
             [
              0.6666666666666666,
              "#ed7953"
             ],
             [
              0.7777777777777778,
              "#fb9f3a"
             ],
             [
              0.8888888888888888,
              "#fdca26"
             ],
             [
              1,
              "#f0f921"
             ]
            ],
            "type": "histogram2d"
           }
          ],
          "histogram2dcontour": [
           {
            "colorbar": {
             "outlinewidth": 0,
             "ticks": ""
            },
            "colorscale": [
             [
              0,
              "#0d0887"
             ],
             [
              0.1111111111111111,
              "#46039f"
             ],
             [
              0.2222222222222222,
              "#7201a8"
             ],
             [
              0.3333333333333333,
              "#9c179e"
             ],
             [
              0.4444444444444444,
              "#bd3786"
             ],
             [
              0.5555555555555556,
              "#d8576b"
             ],
             [
              0.6666666666666666,
              "#ed7953"
             ],
             [
              0.7777777777777778,
              "#fb9f3a"
             ],
             [
              0.8888888888888888,
              "#fdca26"
             ],
             [
              1,
              "#f0f921"
             ]
            ],
            "type": "histogram2dcontour"
           }
          ],
          "mesh3d": [
           {
            "colorbar": {
             "outlinewidth": 0,
             "ticks": ""
            },
            "type": "mesh3d"
           }
          ],
          "parcoords": [
           {
            "line": {
             "colorbar": {
              "outlinewidth": 0,
              "ticks": ""
             }
            },
            "type": "parcoords"
           }
          ],
          "pie": [
           {
            "automargin": true,
            "type": "pie"
           }
          ],
          "scatter": [
           {
            "fillpattern": {
             "fillmode": "overlay",
             "size": 10,
             "solidity": 0.2
            },
            "type": "scatter"
           }
          ],
          "scatter3d": [
           {
            "line": {
             "colorbar": {
              "outlinewidth": 0,
              "ticks": ""
             }
            },
            "marker": {
             "colorbar": {
              "outlinewidth": 0,
              "ticks": ""
             }
            },
            "type": "scatter3d"
           }
          ],
          "scattercarpet": [
           {
            "marker": {
             "colorbar": {
              "outlinewidth": 0,
              "ticks": ""
             }
            },
            "type": "scattercarpet"
           }
          ],
          "scattergeo": [
           {
            "marker": {
             "colorbar": {
              "outlinewidth": 0,
              "ticks": ""
             }
            },
            "type": "scattergeo"
           }
          ],
          "scattergl": [
           {
            "marker": {
             "colorbar": {
              "outlinewidth": 0,
              "ticks": ""
             }
            },
            "type": "scattergl"
           }
          ],
          "scattermapbox": [
           {
            "marker": {
             "colorbar": {
              "outlinewidth": 0,
              "ticks": ""
             }
            },
            "type": "scattermapbox"
           }
          ],
          "scatterpolar": [
           {
            "marker": {
             "colorbar": {
              "outlinewidth": 0,
              "ticks": ""
             }
            },
            "type": "scatterpolar"
           }
          ],
          "scatterpolargl": [
           {
            "marker": {
             "colorbar": {
              "outlinewidth": 0,
              "ticks": ""
             }
            },
            "type": "scatterpolargl"
           }
          ],
          "scatterternary": [
           {
            "marker": {
             "colorbar": {
              "outlinewidth": 0,
              "ticks": ""
             }
            },
            "type": "scatterternary"
           }
          ],
          "surface": [
           {
            "colorbar": {
             "outlinewidth": 0,
             "ticks": ""
            },
            "colorscale": [
             [
              0,
              "#0d0887"
             ],
             [
              0.1111111111111111,
              "#46039f"
             ],
             [
              0.2222222222222222,
              "#7201a8"
             ],
             [
              0.3333333333333333,
              "#9c179e"
             ],
             [
              0.4444444444444444,
              "#bd3786"
             ],
             [
              0.5555555555555556,
              "#d8576b"
             ],
             [
              0.6666666666666666,
              "#ed7953"
             ],
             [
              0.7777777777777778,
              "#fb9f3a"
             ],
             [
              0.8888888888888888,
              "#fdca26"
             ],
             [
              1,
              "#f0f921"
             ]
            ],
            "type": "surface"
           }
          ],
          "table": [
           {
            "cells": {
             "fill": {
              "color": "#EBF0F8"
             },
             "line": {
              "color": "white"
             }
            },
            "header": {
             "fill": {
              "color": "#C8D4E3"
             },
             "line": {
              "color": "white"
             }
            },
            "type": "table"
           }
          ]
         },
         "layout": {
          "annotationdefaults": {
           "arrowcolor": "#2a3f5f",
           "arrowhead": 0,
           "arrowwidth": 1
          },
          "autotypenumbers": "strict",
          "coloraxis": {
           "colorbar": {
            "outlinewidth": 0,
            "ticks": ""
           }
          },
          "colorscale": {
           "diverging": [
            [
             0,
             "#8e0152"
            ],
            [
             0.1,
             "#c51b7d"
            ],
            [
             0.2,
             "#de77ae"
            ],
            [
             0.3,
             "#f1b6da"
            ],
            [
             0.4,
             "#fde0ef"
            ],
            [
             0.5,
             "#f7f7f7"
            ],
            [
             0.6,
             "#e6f5d0"
            ],
            [
             0.7,
             "#b8e186"
            ],
            [
             0.8,
             "#7fbc41"
            ],
            [
             0.9,
             "#4d9221"
            ],
            [
             1,
             "#276419"
            ]
           ],
           "sequential": [
            [
             0,
             "#0d0887"
            ],
            [
             0.1111111111111111,
             "#46039f"
            ],
            [
             0.2222222222222222,
             "#7201a8"
            ],
            [
             0.3333333333333333,
             "#9c179e"
            ],
            [
             0.4444444444444444,
             "#bd3786"
            ],
            [
             0.5555555555555556,
             "#d8576b"
            ],
            [
             0.6666666666666666,
             "#ed7953"
            ],
            [
             0.7777777777777778,
             "#fb9f3a"
            ],
            [
             0.8888888888888888,
             "#fdca26"
            ],
            [
             1,
             "#f0f921"
            ]
           ],
           "sequentialminus": [
            [
             0,
             "#0d0887"
            ],
            [
             0.1111111111111111,
             "#46039f"
            ],
            [
             0.2222222222222222,
             "#7201a8"
            ],
            [
             0.3333333333333333,
             "#9c179e"
            ],
            [
             0.4444444444444444,
             "#bd3786"
            ],
            [
             0.5555555555555556,
             "#d8576b"
            ],
            [
             0.6666666666666666,
             "#ed7953"
            ],
            [
             0.7777777777777778,
             "#fb9f3a"
            ],
            [
             0.8888888888888888,
             "#fdca26"
            ],
            [
             1,
             "#f0f921"
            ]
           ]
          },
          "colorway": [
           "#636efa",
           "#EF553B",
           "#00cc96",
           "#ab63fa",
           "#FFA15A",
           "#19d3f3",
           "#FF6692",
           "#B6E880",
           "#FF97FF",
           "#FECB52"
          ],
          "font": {
           "color": "#2a3f5f"
          },
          "geo": {
           "bgcolor": "white",
           "lakecolor": "white",
           "landcolor": "#E5ECF6",
           "showlakes": true,
           "showland": true,
           "subunitcolor": "white"
          },
          "hoverlabel": {
           "align": "left"
          },
          "hovermode": "closest",
          "mapbox": {
           "style": "light"
          },
          "paper_bgcolor": "white",
          "plot_bgcolor": "#E5ECF6",
          "polar": {
           "angularaxis": {
            "gridcolor": "white",
            "linecolor": "white",
            "ticks": ""
           },
           "bgcolor": "#E5ECF6",
           "radialaxis": {
            "gridcolor": "white",
            "linecolor": "white",
            "ticks": ""
           }
          },
          "scene": {
           "xaxis": {
            "backgroundcolor": "#E5ECF6",
            "gridcolor": "white",
            "gridwidth": 2,
            "linecolor": "white",
            "showbackground": true,
            "ticks": "",
            "zerolinecolor": "white"
           },
           "yaxis": {
            "backgroundcolor": "#E5ECF6",
            "gridcolor": "white",
            "gridwidth": 2,
            "linecolor": "white",
            "showbackground": true,
            "ticks": "",
            "zerolinecolor": "white"
           },
           "zaxis": {
            "backgroundcolor": "#E5ECF6",
            "gridcolor": "white",
            "gridwidth": 2,
            "linecolor": "white",
            "showbackground": true,
            "ticks": "",
            "zerolinecolor": "white"
           }
          },
          "shapedefaults": {
           "line": {
            "color": "#2a3f5f"
           }
          },
          "ternary": {
           "aaxis": {
            "gridcolor": "white",
            "linecolor": "white",
            "ticks": ""
           },
           "baxis": {
            "gridcolor": "white",
            "linecolor": "white",
            "ticks": ""
           },
           "bgcolor": "#E5ECF6",
           "caxis": {
            "gridcolor": "white",
            "linecolor": "white",
            "ticks": ""
           }
          },
          "title": {
           "x": 0.05
          },
          "xaxis": {
           "automargin": true,
           "gridcolor": "white",
           "linecolor": "white",
           "ticks": "",
           "title": {
            "standoff": 15
           },
           "zerolinecolor": "white",
           "zerolinewidth": 2
          },
          "yaxis": {
           "automargin": true,
           "gridcolor": "white",
           "linecolor": "white",
           "ticks": "",
           "title": {
            "standoff": 15
           },
           "zerolinecolor": "white",
           "zerolinewidth": 2
          }
         }
        },
        "title": {
         "text": "PSNR values for different upscaling methods (256<sup>2</sup> px -> 512<sup>2</sup> px)",
         "x": 0.5
        },
        "violinmode": "group",
        "xaxis": {
         "anchor": "y",
         "domain": [
          0,
          1
         ],
         "title": {
          "text": "Method"
         }
        },
        "yaxis": {
         "anchor": "x",
         "domain": [
          0,
          1
         ],
         "title": {
          "text": "PSNR"
         }
        }
       }
      }
     },
     "metadata": {},
     "output_type": "display_data"
    }
   ],
   "source": [
    "import plotly.express as px\n",
    "\n",
    "\n",
    "\n",
    "fig = px.violin(df, y=\"PSNR\", x=\"Method\", box=True, points=\"all\")\n",
    "# add title to plotly figure\n",
    "fig.update_layout(title_text='PSNR values for different upscaling methods (256<sup>2</sup> px -> 512<sup>2</sup> px)', title_x=0.5)\n",
    "fig.update_layout(showlegend=False)\n",
    "fig.show()"
   ]
  },
  {
   "attachments": {},
   "cell_type": "markdown",
   "metadata": {},
   "source": [
    "#### Calculate Structural Similarity (SSIM) Metric"
   ]
  },
  {
   "cell_type": "code",
   "execution_count": 29,
   "metadata": {},
   "outputs": [],
   "source": [
    "# Usage:\n",
    "#\n",
    "# python3 script.py --input original.png --output modified.png\n",
    "# Based on: https://github.com/mostafaGwely/Structural-Similarity-Index-SSIM-\n",
    "\n",
    "# 1. Import the necessary packages\n",
    "from skimage.metrics import structural_similarity\n",
    "import argparse\n",
    "import imutils\n",
    "import cv2\n",
    "\n",
    "# 2. Construct the argument parse and parse the arguments\n",
    "# ap = argparse.ArgumentParser()\n",
    "# ap.add_argument(\"-f\", \"--first\", required=True, help=\"Directory of the image that will be compared\")\n",
    "# ap.add_argument(\"-s\", \"--second\", required=True, help=\"Directory of the image that will be used to compare\")\n",
    "# args = vars(ap.parse_args())\n",
    "def folder_ssim(original_folder=\"original/\", method=\"swinir\",res=\"4x\"):\n",
    "    \"\"\"\n",
    "    Calculates Structural similarity Ratio between two folders (original and method)\n",
    "\n",
    "    Parameters\n",
    "    ----------\n",
    "    original_folder : str\n",
    "        Folder containing the original images\n",
    "    method : str\n",
    "        method of super-resolution applied to images\n",
    "    res : str\n",
    "        Super-resolution operation of the images\n",
    "        SR image folder MUST BE named as: res_method (e.g. 4x_swinir)\n",
    "    Returns\n",
    "    -------\n",
    "    ssim_values : list\n",
    "        List of ssim values\n",
    "    mean_ssim : float\n",
    "        Mean ssim value\n",
    "\n",
    "    \"\"\"\n",
    "\n",
    "    folderA = original_folder\n",
    "    folderB = \"result_images/\"+method + \"_\" + res + \"/\"\n",
    "    ls = os.listdir(original_folder)\n",
    "\n",
    "    values_ssim = []\n",
    "    for i in os.listdir(folderA):\n",
    "        imageA = cv2.imread(folderA+i)\n",
    "        imageB = cv2.imread(folderB+i)\n",
    "\n",
    "        # 4. Convert the images to grayscale\n",
    "        grayA = cv2.cvtColor(imageA, cv2.COLOR_BGR2GRAY)\n",
    "        grayB = cv2.cvtColor(imageB, cv2.COLOR_BGR2GRAY)\n",
    "\n",
    "        # 5. Compute the Structural Similarity Index (SSIM) between the two\n",
    "        #    images, ensuring that the difference image is returned\n",
    "        (score, diff) = structural_similarity(grayA, grayB, full=True)\n",
    "        diff = (diff * 255).astype(\"uint8\")\n",
    "\n",
    "        # 6. You can print only the score if you want\n",
    "        values_ssim.append(score)\n",
    "        #print(\"SSIM: {}\".format(score))\n",
    "\n",
    "    mean_ssim = np.mean(values_ssim)\n",
    "\n",
    "    return values_ssim, mean_ssim\n",
    "\n",
    "\n"
   ]
  },
  {
   "attachments": {},
   "cell_type": "markdown",
   "metadata": {},
   "source": [
    "#### Calculate SSIM for 4x upscaling"
   ]
  },
  {
   "cell_type": "code",
   "execution_count": 30,
   "metadata": {},
   "outputs": [
    {
     "name": "stdout",
     "output_type": "stream",
     "text": [
      "0.7777658107760879\n",
      "0.6462146939604664\n",
      "0.6703538644165777\n",
      "0.7079381311847367\n",
      "0.722364489240525\n",
      "0.7703456050324604\n"
     ]
    }
   ],
   "source": [
    "values_ssim_swinir_4x, mean_ssim_swinir_4x = folder_ssim(method=\"swinir\", res=\"4x\")\n",
    "values_ssim_nearest_4x, mean_ssim_nearest_4x = folder_ssim(method=\"nearest\", res=\"4x\")\n",
    "values_ssim_bilinear_4x, mean_ssim_bilinear_4x = folder_ssim(method=\"bilinear\", res=\"4x\")\n",
    "values_ssim_bicubic_4x, mean_ssim_bicubic_4x = folder_ssim(method=\"bicubic\", res=\"4x\")\n",
    "values_ssim_lanczos_4x, mean_ssim_lanczos_4x = folder_ssim(method=\"lanczos\", res=\"4x\")\n",
    "values_ssim_rcanit_4x, mean_ssim_rcanit_4x = folder_ssim(method=\"rcanit\", res=\"4x\")\n",
    "\n",
    "\n",
    "print(mean_ssim_swinir_4x)\n",
    "print(mean_ssim_nearest_4x)\n",
    "print(mean_ssim_bilinear_4x)\n",
    "print(mean_ssim_bicubic_4x)\n",
    "print(mean_ssim_lanczos_4x)\n",
    "print(mean_ssim_rcanit_4x)"
   ]
  },
  {
   "cell_type": "code",
   "execution_count": 31,
   "metadata": {},
   "outputs": [
    {
     "name": "stdout",
     "output_type": "stream",
     "text": [
      "0.9514630094497233\n",
      "0.8791215190076489\n",
      "0.8964832384128939\n",
      "0.9222910428362768\n",
      "0.9233770304804093\n",
      "0.923399300036151\n"
     ]
    }
   ],
   "source": [
    "values_ssim_swinir_2x, mean_ssim_swinir_2x = folder_ssim(method=\"swinir\", res=\"2x\")\n",
    "values_ssim_nearest_2x, mean_ssim_nearest_2x = folder_ssim(method=\"nearest\", res=\"2x\")\n",
    "values_ssim_bilinear_2x, mean_ssim_bilinear_2x = folder_ssim(method=\"bilinear\", res=\"2x\")\n",
    "values_ssim_bicubic_2x, mean_ssim_bicubic_2x = folder_ssim(method=\"bicubic\", res=\"2x\")\n",
    "values_ssim_lanczos_2x, mean_ssim_lanczos_2x = folder_ssim(method=\"lanczos\", res=\"2x\")\n",
    "values_ssim_rcanit_2x, mean_ssim_rcanit_2x = folder_ssim(method=\"rcanit\", res=\"2x\")\n",
    "\n",
    "\n",
    "print(mean_ssim_swinir_2x)\n",
    "print(mean_ssim_nearest_2x)\n",
    "print(mean_ssim_bilinear_2x)\n",
    "print(mean_ssim_bicubic_2x)\n",
    "print(mean_ssim_lanczos_2x)\n",
    "print(mean_ssim_rcanit_2x)"
   ]
  },
  {
   "cell_type": "code",
   "execution_count": 9,
   "metadata": {},
   "outputs": [
    {
     "data": {
      "text/html": [
       "<div>\n",
       "<style scoped>\n",
       "    .dataframe tbody tr th:only-of-type {\n",
       "        vertical-align: middle;\n",
       "    }\n",
       "\n",
       "    .dataframe tbody tr th {\n",
       "        vertical-align: top;\n",
       "    }\n",
       "\n",
       "    .dataframe thead th {\n",
       "        text-align: right;\n",
       "    }\n",
       "</style>\n",
       "<table border=\"1\" class=\"dataframe\">\n",
       "  <thead>\n",
       "    <tr style=\"text-align: right;\">\n",
       "      <th></th>\n",
       "      <th>Method</th>\n",
       "      <th>SSIM_4x</th>\n",
       "      <th>SwinIR</th>\n",
       "      <th>SSIM_2x</th>\n",
       "    </tr>\n",
       "  </thead>\n",
       "  <tbody>\n",
       "    <tr>\n",
       "      <th>0</th>\n",
       "      <td>SwinIR</td>\n",
       "      <td>0.769361</td>\n",
       "      <td>1</td>\n",
       "      <td>0.933234</td>\n",
       "    </tr>\n",
       "    <tr>\n",
       "      <th>1</th>\n",
       "      <td>SwinIR</td>\n",
       "      <td>0.798405</td>\n",
       "      <td>1</td>\n",
       "      <td>0.953797</td>\n",
       "    </tr>\n",
       "    <tr>\n",
       "      <th>2</th>\n",
       "      <td>SwinIR</td>\n",
       "      <td>0.784007</td>\n",
       "      <td>1</td>\n",
       "      <td>0.950970</td>\n",
       "    </tr>\n",
       "    <tr>\n",
       "      <th>3</th>\n",
       "      <td>SwinIR</td>\n",
       "      <td>0.816981</td>\n",
       "      <td>1</td>\n",
       "      <td>0.967774</td>\n",
       "    </tr>\n",
       "    <tr>\n",
       "      <th>4</th>\n",
       "      <td>SwinIR</td>\n",
       "      <td>0.790006</td>\n",
       "      <td>1</td>\n",
       "      <td>0.959998</td>\n",
       "    </tr>\n",
       "    <tr>\n",
       "      <th>...</th>\n",
       "      <td>...</td>\n",
       "      <td>...</td>\n",
       "      <td>...</td>\n",
       "      <td>...</td>\n",
       "    </tr>\n",
       "    <tr>\n",
       "      <th>301</th>\n",
       "      <td>Nearest</td>\n",
       "      <td>0.602790</td>\n",
       "      <td>0</td>\n",
       "      <td>0.839906</td>\n",
       "    </tr>\n",
       "    <tr>\n",
       "      <th>302</th>\n",
       "      <td>Nearest</td>\n",
       "      <td>0.681139</td>\n",
       "      <td>0</td>\n",
       "      <td>0.893235</td>\n",
       "    </tr>\n",
       "    <tr>\n",
       "      <th>303</th>\n",
       "      <td>Nearest</td>\n",
       "      <td>0.662894</td>\n",
       "      <td>0</td>\n",
       "      <td>0.888241</td>\n",
       "    </tr>\n",
       "    <tr>\n",
       "      <th>304</th>\n",
       "      <td>Nearest</td>\n",
       "      <td>0.850331</td>\n",
       "      <td>0</td>\n",
       "      <td>0.944302</td>\n",
       "    </tr>\n",
       "    <tr>\n",
       "      <th>305</th>\n",
       "      <td>Nearest</td>\n",
       "      <td>0.726837</td>\n",
       "      <td>0</td>\n",
       "      <td>0.908919</td>\n",
       "    </tr>\n",
       "  </tbody>\n",
       "</table>\n",
       "<p>306 rows × 4 columns</p>\n",
       "</div>"
      ],
      "text/plain": [
       "      Method   SSIM_4x  SwinIR   SSIM_2x\n",
       "0     SwinIR  0.769361       1  0.933234\n",
       "1     SwinIR  0.798405       1  0.953797\n",
       "2     SwinIR  0.784007       1  0.950970\n",
       "3     SwinIR  0.816981       1  0.967774\n",
       "4     SwinIR  0.790006       1  0.959998\n",
       "..       ...       ...     ...       ...\n",
       "301  Nearest  0.602790       0  0.839906\n",
       "302  Nearest  0.681139       0  0.893235\n",
       "303  Nearest  0.662894       0  0.888241\n",
       "304  Nearest  0.850331       0  0.944302\n",
       "305  Nearest  0.726837       0  0.908919\n",
       "\n",
       "[306 rows x 4 columns]"
      ]
     },
     "execution_count": 9,
     "metadata": {},
     "output_type": "execute_result"
    }
   ],
   "source": [
    "dct = {'SwinIR': values_ssim_swinir_4x, 'RCANIT': values_ssim_rcanit_4x, 'Lanczos': values_ssim_lanczos_4x, 'Bicubic': values_ssim_bicubic_4x, 'Bilinear': values_ssim_bilinear_4x,  'Nearest': values_ssim_nearest_4x}\n",
    "\n",
    "df_4x = pd.DataFrame(dct)\n",
    "df_4x = df_4x.melt()\n",
    "\n",
    "dct = {'SwinIR': values_ssim_swinir_2x, 'RCANIT': values_ssim_rcanit_2x, 'Lanczos': values_ssim_lanczos_2x, 'Bicubic': values_ssim_bicubic_2x, 'Bilinear': values_ssim_bilinear_2x,  'Nearest': values_ssim_nearest_2x}\n",
    "\n",
    "df_2x = pd.DataFrame(dct)\n",
    "df_2x = df_2x.melt()\n",
    "\n",
    "df_4x.columns = [\"Method\", \"SSIM_4x\"]\n",
    "# add column with 1 if method is SwinIR and 0 if not\n",
    "df_4x['SwinIR'] = df_4x['Method'].apply(lambda x: 1 if x == 'SwinIR' else 0)\n",
    "\n",
    "df_2x.columns = [\"Method\", \"SSIM_2x\"]\n",
    "# add column with 1 if method is SwinIR and 0 if not\n",
    "df_2x['SwinIR'] = df_2x['Method'].apply(lambda x: 1 if x == 'SwinIR' else 0)\n",
    "\n",
    "\n",
    "\n",
    "df_4x[\"SSIM_2x\"] = df_2x[\"SSIM_2x\"]\n",
    "df_4x\n",
    "\n"
   ]
  },
  {
   "cell_type": "code",
   "execution_count": 31,
   "metadata": {},
   "outputs": [
    {
     "data": {
      "application/vnd.plotly.v1+json": {
       "config": {
        "plotlyServerURL": "https://plot.ly"
       },
       "data": [
        {
         "boxpoints": "all",
         "legendgroup": "2x",
         "line": {
          "color": "mediumpurple"
         },
         "marker": {
          "size": 4
         },
         "name": "2x",
         "pointpos": -1.8,
         "type": "box",
         "x": [
          "SwinIR",
          "SwinIR",
          "SwinIR",
          "SwinIR",
          "SwinIR",
          "SwinIR",
          "SwinIR",
          "SwinIR",
          "SwinIR",
          "SwinIR",
          "SwinIR",
          "SwinIR",
          "SwinIR",
          "SwinIR",
          "SwinIR",
          "SwinIR",
          "SwinIR",
          "SwinIR",
          "SwinIR",
          "SwinIR",
          "SwinIR",
          "SwinIR",
          "SwinIR",
          "SwinIR",
          "SwinIR",
          "SwinIR",
          "SwinIR",
          "SwinIR",
          "SwinIR",
          "SwinIR",
          "SwinIR",
          "SwinIR",
          "SwinIR",
          "SwinIR",
          "SwinIR",
          "SwinIR",
          "SwinIR",
          "SwinIR",
          "SwinIR",
          "SwinIR",
          "SwinIR",
          "SwinIR",
          "SwinIR",
          "SwinIR",
          "SwinIR",
          "SwinIR",
          "SwinIR",
          "SwinIR",
          "SwinIR",
          "SwinIR",
          "SwinIR",
          "RCANIT",
          "RCANIT",
          "RCANIT",
          "RCANIT",
          "RCANIT",
          "RCANIT",
          "RCANIT",
          "RCANIT",
          "RCANIT",
          "RCANIT",
          "RCANIT",
          "RCANIT",
          "RCANIT",
          "RCANIT",
          "RCANIT",
          "RCANIT",
          "RCANIT",
          "RCANIT",
          "RCANIT",
          "RCANIT",
          "RCANIT",
          "RCANIT",
          "RCANIT",
          "RCANIT",
          "RCANIT",
          "RCANIT",
          "RCANIT",
          "RCANIT",
          "RCANIT",
          "RCANIT",
          "RCANIT",
          "RCANIT",
          "RCANIT",
          "RCANIT",
          "RCANIT",
          "RCANIT",
          "RCANIT",
          "RCANIT",
          "RCANIT",
          "RCANIT",
          "RCANIT",
          "RCANIT",
          "RCANIT",
          "RCANIT",
          "RCANIT",
          "RCANIT",
          "RCANIT",
          "RCANIT",
          "RCANIT",
          "RCANIT",
          "RCANIT",
          "Lanczos",
          "Lanczos",
          "Lanczos",
          "Lanczos",
          "Lanczos",
          "Lanczos",
          "Lanczos",
          "Lanczos",
          "Lanczos",
          "Lanczos",
          "Lanczos",
          "Lanczos",
          "Lanczos",
          "Lanczos",
          "Lanczos",
          "Lanczos",
          "Lanczos",
          "Lanczos",
          "Lanczos",
          "Lanczos",
          "Lanczos",
          "Lanczos",
          "Lanczos",
          "Lanczos",
          "Lanczos",
          "Lanczos",
          "Lanczos",
          "Lanczos",
          "Lanczos",
          "Lanczos",
          "Lanczos",
          "Lanczos",
          "Lanczos",
          "Lanczos",
          "Lanczos",
          "Lanczos",
          "Lanczos",
          "Lanczos",
          "Lanczos",
          "Lanczos",
          "Lanczos",
          "Lanczos",
          "Lanczos",
          "Lanczos",
          "Lanczos",
          "Lanczos",
          "Lanczos",
          "Lanczos",
          "Lanczos",
          "Lanczos",
          "Lanczos",
          "Bicubic",
          "Bicubic",
          "Bicubic",
          "Bicubic",
          "Bicubic",
          "Bicubic",
          "Bicubic",
          "Bicubic",
          "Bicubic",
          "Bicubic",
          "Bicubic",
          "Bicubic",
          "Bicubic",
          "Bicubic",
          "Bicubic",
          "Bicubic",
          "Bicubic",
          "Bicubic",
          "Bicubic",
          "Bicubic",
          "Bicubic",
          "Bicubic",
          "Bicubic",
          "Bicubic",
          "Bicubic",
          "Bicubic",
          "Bicubic",
          "Bicubic",
          "Bicubic",
          "Bicubic",
          "Bicubic",
          "Bicubic",
          "Bicubic",
          "Bicubic",
          "Bicubic",
          "Bicubic",
          "Bicubic",
          "Bicubic",
          "Bicubic",
          "Bicubic",
          "Bicubic",
          "Bicubic",
          "Bicubic",
          "Bicubic",
          "Bicubic",
          "Bicubic",
          "Bicubic",
          "Bicubic",
          "Bicubic",
          "Bicubic",
          "Bicubic",
          "Bilinear",
          "Bilinear",
          "Bilinear",
          "Bilinear",
          "Bilinear",
          "Bilinear",
          "Bilinear",
          "Bilinear",
          "Bilinear",
          "Bilinear",
          "Bilinear",
          "Bilinear",
          "Bilinear",
          "Bilinear",
          "Bilinear",
          "Bilinear",
          "Bilinear",
          "Bilinear",
          "Bilinear",
          "Bilinear",
          "Bilinear",
          "Bilinear",
          "Bilinear",
          "Bilinear",
          "Bilinear",
          "Bilinear",
          "Bilinear",
          "Bilinear",
          "Bilinear",
          "Bilinear",
          "Bilinear",
          "Bilinear",
          "Bilinear",
          "Bilinear",
          "Bilinear",
          "Bilinear",
          "Bilinear",
          "Bilinear",
          "Bilinear",
          "Bilinear",
          "Bilinear",
          "Bilinear",
          "Bilinear",
          "Bilinear",
          "Bilinear",
          "Bilinear",
          "Bilinear",
          "Bilinear",
          "Bilinear",
          "Bilinear",
          "Bilinear",
          "Nearest",
          "Nearest",
          "Nearest",
          "Nearest",
          "Nearest",
          "Nearest",
          "Nearest",
          "Nearest",
          "Nearest",
          "Nearest",
          "Nearest",
          "Nearest",
          "Nearest",
          "Nearest",
          "Nearest",
          "Nearest",
          "Nearest",
          "Nearest",
          "Nearest",
          "Nearest",
          "Nearest",
          "Nearest",
          "Nearest",
          "Nearest",
          "Nearest",
          "Nearest",
          "Nearest",
          "Nearest",
          "Nearest",
          "Nearest",
          "Nearest",
          "Nearest",
          "Nearest",
          "Nearest",
          "Nearest",
          "Nearest",
          "Nearest",
          "Nearest",
          "Nearest",
          "Nearest",
          "Nearest",
          "Nearest",
          "Nearest",
          "Nearest",
          "Nearest",
          "Nearest",
          "Nearest",
          "Nearest",
          "Nearest",
          "Nearest",
          "Nearest"
         ],
         "y": [
          0.9332339247835617,
          0.9537969276405432,
          0.9509697861525619,
          0.9677743431657788,
          0.9599977147452057,
          0.914785961689417,
          0.9698387454216353,
          0.9627142225886448,
          0.9317808449800886,
          0.9297656936623124,
          0.9541466965080498,
          0.9312811664960269,
          0.9475554496207494,
          0.9188812782533096,
          0.9581970615525988,
          0.9761057366498854,
          0.9575189555610006,
          0.940600754081592,
          0.9425217402420096,
          0.9277902218570677,
          0.9658054952320717,
          0.9669016724384412,
          0.9256667326045287,
          0.9341216058969145,
          0.9389242229621918,
          0.9510145367309782,
          0.9679023523959799,
          0.9670152255241681,
          0.9655254871089377,
          0.9893681252816008,
          0.9656142545531197,
          0.9440880976205557,
          0.9438080024419303,
          0.9482965944039142,
          0.9393547367497669,
          0.9482218779358689,
          0.9590063228534461,
          0.9594302769919141,
          0.9719573095103787,
          0.9795536258657154,
          0.9703655779699619,
          0.9348300842025912,
          0.9414689106966397,
          0.9254123357800262,
          0.9535071785764048,
          0.9542852508030069,
          0.9261250507250458,
          0.960983357574429,
          0.957192271785819,
          0.9744063051674864,
          0.9652033779000138,
          0.908402359043253,
          0.9304971444670354,
          0.9334171607887537,
          0.9504877545055392,
          0.9314307005247527,
          0.8790229908015852,
          0.9514049798664453,
          0.9511462569617619,
          0.8923561251200981,
          0.8916421817221039,
          0.9014479274689934,
          0.9057215279184346,
          0.9188276267001839,
          0.8853376159398075,
          0.9312353445865992,
          0.9618665430457789,
          0.9281712946679694,
          0.9033197869941841,
          0.9172437498993368,
          0.8822956668051467,
          0.9413126977071196,
          0.9465605535111106,
          0.8632805218020084,
          0.8762706304704863,
          0.8947555177304947,
          0.9272974276488852,
          0.9416542995009028,
          0.9409999928845102,
          0.938139207132042,
          0.9869423219189298,
          0.9367513177802902,
          0.911456911353454,
          0.918046143659087,
          0.9256419333799345,
          0.909446799386337,
          0.9290967244506683,
          0.931565612372138,
          0.936438807882667,
          0.9522987911164069,
          0.9670907868225315,
          0.9491471157934744,
          0.9050792991196448,
          0.8981460092430866,
          0.8903922540297001,
          0.9240359167099854,
          0.926174487039766,
          0.8942573523401302,
          0.9381264901183769,
          0.9272845318070447,
          0.9659661030651424,
          0.9444330062395827,
          0.8950550900726392,
          0.9248056516674534,
          0.9167093161778724,
          0.9486243844958344,
          0.9275154384863709,
          0.8752212655808034,
          0.9541834258303701,
          0.9423610965395622,
          0.8919734588447568,
          0.8862556233332515,
          0.9442347580676453,
          0.8969289559565813,
          0.9249159551984459,
          0.8814345871145511,
          0.9325045428010058,
          0.9625479277745808,
          0.9271859412931485,
          0.9020877346486734,
          0.9085890117937442,
          0.891529845201499,
          0.9456207088694089,
          0.9460477409699407,
          0.8773588877230628,
          0.8909206550522365,
          0.9154156558741939,
          0.9208748791999904,
          0.9597347354826498,
          0.9530518446302918,
          0.9532622258957052,
          0.9877880223424709,
          0.9476141235648976,
          0.9104032476721561,
          0.8981582675520458,
          0.9060115199039975,
          0.8746016833048993,
          0.9224262288175473,
          0.9246227903058,
          0.9337067343357907,
          0.9632442588347518,
          0.9698953193469976,
          0.9529880513764316,
          0.90450331021284,
          0.9184485444547471,
          0.885278250712618,
          0.924383497794691,
          0.9294261411041694,
          0.8650494978501818,
          0.9366072356279496,
          0.9330308423027653,
          0.9598406323471832,
          0.9472490101596911,
          0.8975486150082709,
          0.9260799391368518,
          0.9178753750308388,
          0.947274753191811,
          0.925935443867396,
          0.8740158373357839,
          0.9523081901580067,
          0.9443494896929298,
          0.8892836571201655,
          0.884969792371792,
          0.9417446673573012,
          0.8980194843344339,
          0.9226062844217477,
          0.8807366501751017,
          0.9313300486386488,
          0.9596782927807435,
          0.9262310472147277,
          0.9023302710127729,
          0.9093874940037736,
          0.8901865121843464,
          0.9422663555904843,
          0.9444867650159045,
          0.8730296553143437,
          0.8851473647522662,
          0.9139380471445215,
          0.9200246193543032,
          0.9564530603472409,
          0.949671688988744,
          0.9550680520339146,
          0.9882559788485947,
          0.9425047755070795,
          0.9059843077898688,
          0.898116945370718,
          0.9066525954610323,
          0.8766185156667944,
          0.9210123192007378,
          0.9215165160635213,
          0.9331384451095736,
          0.9620773232559862,
          0.9693243575363923,
          0.9526746892912658,
          0.9041174200397105,
          0.9138322080304739,
          0.8832244112452922,
          0.9218639976674267,
          0.9268751393295654,
          0.8707790615335406,
          0.9361854328981482,
          0.93183200132443,
          0.9621062419796251,
          0.9461730479211722,
          0.8760540979030129,
          0.907284302162554,
          0.8945286402847094,
          0.9274193776483856,
          0.8979872168297935,
          0.8369494444715175,
          0.9324755974891377,
          0.9312945864888277,
          0.8531844027827422,
          0.8492128104583131,
          0.9192292780226138,
          0.873302201269927,
          0.8950848952466134,
          0.8481125976299175,
          0.9062723318133769,
          0.9388906504689659,
          0.9001221434611034,
          0.8734313112813225,
          0.8826089797354955,
          0.8568176303270847,
          0.9159829991792167,
          0.9234506257889104,
          0.8294807692378798,
          0.8403466718528458,
          0.8852118142705272,
          0.894991203437251,
          0.935119807462336,
          0.9264290975819072,
          0.9430951478952664,
          0.9847114375252285,
          0.9117066113199563,
          0.868585804392323,
          0.8656643923742147,
          0.8782165163790976,
          0.8424435526024951,
          0.8931973405721668,
          0.8878767574450837,
          0.9115243662689366,
          0.9467273527761874,
          0.957161560243845,
          0.9361530578215962,
          0.8764403830321021,
          0.8792335505317864,
          0.8463671387599689,
          0.8915745183397407,
          0.8986467198002568,
          0.8457661208186277,
          0.9153390136271701,
          0.907735241911999,
          0.9545402304924371,
          0.9266628595408163,
          0.8697780068945798,
          0.8861285352945496,
          0.8765049073578447,
          0.8982506482030286,
          0.8749008839730869,
          0.8314607797860453,
          0.9088387019824536,
          0.9227505826058698,
          0.8404483999741998,
          0.8367565025077475,
          0.8983024834077975,
          0.8620794400767918,
          0.8742457730790893,
          0.839773893717749,
          0.8821636338556379,
          0.9097140966356876,
          0.8757113618667117,
          0.8605703574762108,
          0.868461168519325,
          0.8504308094437273,
          0.8883291712648703,
          0.9015880996134013,
          0.821817129449015,
          0.8278426189673606,
          0.8679822081839726,
          0.8741314044931491,
          0.910595422713454,
          0.9024579467019114,
          0.9296375241867201,
          0.9746299596578184,
          0.8792896813968614,
          0.8472490554084406,
          0.8502216657193444,
          0.8611168675824584,
          0.8326907516141796,
          0.8746812943462613,
          0.8650395586132065,
          0.8932807579289512,
          0.9234389761556608,
          0.9424529118870257,
          0.9177966779590342,
          0.8641263245661908,
          0.8616940155179644,
          0.8364917141996189,
          0.8693985620613702,
          0.8753422183697619,
          0.8399059277014701,
          0.8932353674675051,
          0.8882409019521991,
          0.9443024101275642,
          0.9089193769252192
         ]
        },
        {
         "boxpoints": "all",
         "legendgroup": "4x",
         "line": {
          "color": "steelblue"
         },
         "marker": {
          "size": 4
         },
         "name": "4x",
         "pointpos": -1.8,
         "type": "box",
         "x": [
          "SwinIR",
          "SwinIR",
          "SwinIR",
          "SwinIR",
          "SwinIR",
          "SwinIR",
          "SwinIR",
          "SwinIR",
          "SwinIR",
          "SwinIR",
          "SwinIR",
          "SwinIR",
          "SwinIR",
          "SwinIR",
          "SwinIR",
          "SwinIR",
          "SwinIR",
          "SwinIR",
          "SwinIR",
          "SwinIR",
          "SwinIR",
          "SwinIR",
          "SwinIR",
          "SwinIR",
          "SwinIR",
          "SwinIR",
          "SwinIR",
          "SwinIR",
          "SwinIR",
          "SwinIR",
          "SwinIR",
          "SwinIR",
          "SwinIR",
          "SwinIR",
          "SwinIR",
          "SwinIR",
          "SwinIR",
          "SwinIR",
          "SwinIR",
          "SwinIR",
          "SwinIR",
          "SwinIR",
          "SwinIR",
          "SwinIR",
          "SwinIR",
          "SwinIR",
          "SwinIR",
          "SwinIR",
          "SwinIR",
          "SwinIR",
          "SwinIR",
          "RCANIT",
          "RCANIT",
          "RCANIT",
          "RCANIT",
          "RCANIT",
          "RCANIT",
          "RCANIT",
          "RCANIT",
          "RCANIT",
          "RCANIT",
          "RCANIT",
          "RCANIT",
          "RCANIT",
          "RCANIT",
          "RCANIT",
          "RCANIT",
          "RCANIT",
          "RCANIT",
          "RCANIT",
          "RCANIT",
          "RCANIT",
          "RCANIT",
          "RCANIT",
          "RCANIT",
          "RCANIT",
          "RCANIT",
          "RCANIT",
          "RCANIT",
          "RCANIT",
          "RCANIT",
          "RCANIT",
          "RCANIT",
          "RCANIT",
          "RCANIT",
          "RCANIT",
          "RCANIT",
          "RCANIT",
          "RCANIT",
          "RCANIT",
          "RCANIT",
          "RCANIT",
          "RCANIT",
          "RCANIT",
          "RCANIT",
          "RCANIT",
          "RCANIT",
          "RCANIT",
          "RCANIT",
          "RCANIT",
          "RCANIT",
          "RCANIT",
          "Lanczos",
          "Lanczos",
          "Lanczos",
          "Lanczos",
          "Lanczos",
          "Lanczos",
          "Lanczos",
          "Lanczos",
          "Lanczos",
          "Lanczos",
          "Lanczos",
          "Lanczos",
          "Lanczos",
          "Lanczos",
          "Lanczos",
          "Lanczos",
          "Lanczos",
          "Lanczos",
          "Lanczos",
          "Lanczos",
          "Lanczos",
          "Lanczos",
          "Lanczos",
          "Lanczos",
          "Lanczos",
          "Lanczos",
          "Lanczos",
          "Lanczos",
          "Lanczos",
          "Lanczos",
          "Lanczos",
          "Lanczos",
          "Lanczos",
          "Lanczos",
          "Lanczos",
          "Lanczos",
          "Lanczos",
          "Lanczos",
          "Lanczos",
          "Lanczos",
          "Lanczos",
          "Lanczos",
          "Lanczos",
          "Lanczos",
          "Lanczos",
          "Lanczos",
          "Lanczos",
          "Lanczos",
          "Lanczos",
          "Lanczos",
          "Lanczos",
          "Bicubic",
          "Bicubic",
          "Bicubic",
          "Bicubic",
          "Bicubic",
          "Bicubic",
          "Bicubic",
          "Bicubic",
          "Bicubic",
          "Bicubic",
          "Bicubic",
          "Bicubic",
          "Bicubic",
          "Bicubic",
          "Bicubic",
          "Bicubic",
          "Bicubic",
          "Bicubic",
          "Bicubic",
          "Bicubic",
          "Bicubic",
          "Bicubic",
          "Bicubic",
          "Bicubic",
          "Bicubic",
          "Bicubic",
          "Bicubic",
          "Bicubic",
          "Bicubic",
          "Bicubic",
          "Bicubic",
          "Bicubic",
          "Bicubic",
          "Bicubic",
          "Bicubic",
          "Bicubic",
          "Bicubic",
          "Bicubic",
          "Bicubic",
          "Bicubic",
          "Bicubic",
          "Bicubic",
          "Bicubic",
          "Bicubic",
          "Bicubic",
          "Bicubic",
          "Bicubic",
          "Bicubic",
          "Bicubic",
          "Bicubic",
          "Bicubic",
          "Bilinear",
          "Bilinear",
          "Bilinear",
          "Bilinear",
          "Bilinear",
          "Bilinear",
          "Bilinear",
          "Bilinear",
          "Bilinear",
          "Bilinear",
          "Bilinear",
          "Bilinear",
          "Bilinear",
          "Bilinear",
          "Bilinear",
          "Bilinear",
          "Bilinear",
          "Bilinear",
          "Bilinear",
          "Bilinear",
          "Bilinear",
          "Bilinear",
          "Bilinear",
          "Bilinear",
          "Bilinear",
          "Bilinear",
          "Bilinear",
          "Bilinear",
          "Bilinear",
          "Bilinear",
          "Bilinear",
          "Bilinear",
          "Bilinear",
          "Bilinear",
          "Bilinear",
          "Bilinear",
          "Bilinear",
          "Bilinear",
          "Bilinear",
          "Bilinear",
          "Bilinear",
          "Bilinear",
          "Bilinear",
          "Bilinear",
          "Bilinear",
          "Bilinear",
          "Bilinear",
          "Bilinear",
          "Bilinear",
          "Bilinear",
          "Bilinear",
          "Nearest",
          "Nearest",
          "Nearest",
          "Nearest",
          "Nearest",
          "Nearest",
          "Nearest",
          "Nearest",
          "Nearest",
          "Nearest",
          "Nearest",
          "Nearest",
          "Nearest",
          "Nearest",
          "Nearest",
          "Nearest",
          "Nearest",
          "Nearest",
          "Nearest",
          "Nearest",
          "Nearest",
          "Nearest",
          "Nearest",
          "Nearest",
          "Nearest",
          "Nearest",
          "Nearest",
          "Nearest",
          "Nearest",
          "Nearest",
          "Nearest",
          "Nearest",
          "Nearest",
          "Nearest",
          "Nearest",
          "Nearest",
          "Nearest",
          "Nearest",
          "Nearest",
          "Nearest",
          "Nearest",
          "Nearest",
          "Nearest",
          "Nearest",
          "Nearest",
          "Nearest",
          "Nearest",
          "Nearest",
          "Nearest",
          "Nearest",
          "Nearest"
         ],
         "y": [
          0.7693612203533506,
          0.7984053374887262,
          0.7840068604641907,
          0.816980632767993,
          0.7900057559154318,
          0.6735082010425012,
          0.833334130578371,
          0.8688239147419695,
          0.6809277622418152,
          0.6860396905463391,
          0.780309087981017,
          0.733801425578713,
          0.7494561060954025,
          0.6930893544270277,
          0.7934253791898158,
          0.8493756105513272,
          0.7813235479202219,
          0.7441450680598426,
          0.7810469271906993,
          0.7104848018023192,
          0.7934607556158847,
          0.8201661277797433,
          0.6483438259023774,
          0.6583991355103914,
          0.7264053770152624,
          0.7806434878800108,
          0.8052753212042159,
          0.8023319607534758,
          0.8731437619928089,
          0.95352510492641,
          0.7591202576997188,
          0.7219089941712252,
          0.7674633080341666,
          0.7932025646522747,
          0.7189050433299286,
          0.7792004300492509,
          0.7831286031313357,
          0.8112822480180935,
          0.8517780502789088,
          0.8911012205463553,
          0.8508418081689967,
          0.7353085836194239,
          0.7059684311588976,
          0.6904677637349618,
          0.7539576557021059,
          0.7565381143804799,
          0.7545005191596598,
          0.8189397346905649,
          0.7913806216336756,
          0.914362917360391,
          0.8371538065424121,
          0.7644586131203119,
          0.7926845394078249,
          0.7724162787462995,
          0.8087091270209741,
          0.7778854940718163,
          0.6702067913940506,
          0.8298709469409418,
          0.8636818569818616,
          0.6720257081733896,
          0.6749992344549095,
          0.7759358950337145,
          0.7214300323174899,
          0.7435988992426579,
          0.6826202207686694,
          0.7869187185551728,
          0.8445983609213163,
          0.7744488729706229,
          0.7342210856930955,
          0.7733882702947688,
          0.701983180547798,
          0.789517470465601,
          0.8125225661542734,
          0.6374654848314143,
          0.6506105549314604,
          0.7204037209532842,
          0.774527961805448,
          0.8041744236580701,
          0.7962103348054879,
          0.8659498521577343,
          0.9519068154604624,
          0.7542285136361714,
          0.7178762082528851,
          0.753226783948213,
          0.7806078687835006,
          0.7056582643085246,
          0.7635947009887293,
          0.7777310968041539,
          0.8063086003493766,
          0.8479052838972183,
          0.8813686038420118,
          0.8439411495108713,
          0.7305982770547602,
          0.6913305505705554,
          0.683629567500206,
          0.7495420040122435,
          0.7515014657516937,
          0.7438218112758286,
          0.8107643330400198,
          0.7822840944510593,
          0.9114038228563219,
          0.8309315439402195,
          0.7200547253616384,
          0.7696277194064981,
          0.7223355107311892,
          0.7845314949992945,
          0.7014063833000611,
          0.6154539319511324,
          0.7956032521701648,
          0.827744381353134,
          0.6202639214963027,
          0.6187846019817819,
          0.7652049031833592,
          0.6880393860637003,
          0.7172558764356375,
          0.6484040192580961,
          0.7309010934787002,
          0.7950132650374183,
          0.7175489190548173,
          0.6787634396756109,
          0.6909137557430132,
          0.6564676611440509,
          0.7358469842698211,
          0.7678545237549304,
          0.568746845091345,
          0.5864495826002238,
          0.6889577567039448,
          0.7258406545444785,
          0.7936119894210548,
          0.7734834509441736,
          0.8344683609520904,
          0.9469750866514353,
          0.715206654022689,
          0.6516373133978084,
          0.6397546119912377,
          0.6707472552345021,
          0.5965063895939509,
          0.711005020396149,
          0.6769401797292871,
          0.7559152820727222,
          0.8331789342606358,
          0.8720408219921699,
          0.8096933746534322,
          0.6946013448454139,
          0.6579954452559799,
          0.6270634174161104,
          0.6873339620431573,
          0.7110602318171928,
          0.6692913748943553,
          0.7642612810123104,
          0.739781753197073,
          0.880028203237922,
          0.789992623443582,
          0.7133261019344525,
          0.7579986601373113,
          0.7097625588161284,
          0.7691776910520862,
          0.6860342643733516,
          0.5956464525049099,
          0.7823841308450816,
          0.8230185807992795,
          0.6032963982902612,
          0.5986922019277733,
          0.7514409859637483,
          0.6793093830442498,
          0.700505020086287,
          0.633103231068602,
          0.7158963100841511,
          0.7817525317575929,
          0.7016402623844962,
          0.6646866726577146,
          0.6801850225911165,
          0.6378037025956816,
          0.716872516361352,
          0.756692895698318,
          0.5441055688578068,
          0.5605874483894793,
          0.6738746850218401,
          0.7102041573284491,
          0.7774900856164898,
          0.757202412104426,
          0.8314107512502565,
          0.945016666388693,
          0.6881376075176069,
          0.6261198705985498,
          0.6249262472510364,
          0.6589396566887104,
          0.5767931683823456,
          0.6981893366553439,
          0.6536276790044255,
          0.747668306875638,
          0.8210321376713611,
          0.8642061337448653,
          0.8006049994490267,
          0.6789226275324205,
          0.6375761778735545,
          0.6072395132340503,
          0.6682573773002584,
          0.691892506183715,
          0.6592421177012767,
          0.7549191357996035,
          0.7261623093205899,
          0.8799718409443712,
          0.781298590761434,
          0.6936645073824778,
          0.7276826913213186,
          0.674183298556586,
          0.7290183108779376,
          0.6430604372814223,
          0.5492611809748519,
          0.7470612246507806,
          0.8085903946218018,
          0.5613760155838351,
          0.550796838479946,
          0.717716335046313,
          0.6534563778775981,
          0.659450440574617,
          0.5960899120894725,
          0.6748866542757418,
          0.7431074454794911,
          0.657115269196748,
          0.6251752306459527,
          0.642698973049968,
          0.5932834617919522,
          0.6698879427709504,
          0.7249711970857683,
          0.48816969900232055,
          0.5022403513835486,
          0.6353900732955572,
          0.6704920930378544,
          0.7390462773116122,
          0.7179140290664014,
          0.8156734556710272,
          0.9364011947975772,
          0.6245759193467763,
          0.567127920416081,
          0.5849188581652858,
          0.6229408636754922,
          0.5270877572875984,
          0.6629999973198034,
          0.5966902352788358,
          0.7175807627066856,
          0.7897291014995826,
          0.8431039665686375,
          0.7735852833152013,
          0.6415149201514301,
          0.5894476631732862,
          0.5614581589290211,
          0.620444139563658,
          0.6450308695970911,
          0.6298595639489547,
          0.7250343974831717,
          0.6901339295499644,
          0.8728493259768794,
          0.7540721381105977,
          0.6770893081199103,
          0.6771922907742716,
          0.6389976991599841,
          0.6710437037015414,
          0.6124158069097475,
          0.5427826521507602,
          0.7113736750135249,
          0.7969421264975449,
          0.5503130283221066,
          0.5424496044747344,
          0.6929859836607857,
          0.6326968892064033,
          0.633101722188985,
          0.5833501210995513,
          0.6365677319761952,
          0.6933940125595073,
          0.621542905959677,
          0.6055147040500982,
          0.6173136645187072,
          0.5905598406940691,
          0.6347202819930576,
          0.6908077621560023,
          0.4912530606796873,
          0.5021597599625918,
          0.6195465975012054,
          0.6387555949092328,
          0.7083547453147652,
          0.6875211611934741,
          0.790695410331457,
          0.9090990560509149,
          0.5969698734780536,
          0.5479161619136353,
          0.5728511984527405,
          0.604348202457083,
          0.5243171936819667,
          0.6432855025110314,
          0.5824672455167675,
          0.6819229858074463,
          0.7483429841537865,
          0.8176537252396702,
          0.743275243584792,
          0.6265346341145615,
          0.5750563357357872,
          0.5543656237481358,
          0.594346069479786,
          0.6187654938701539,
          0.6027895971250613,
          0.6811386066341681,
          0.6628935558347007,
          0.8503313756229672,
          0.7268368818910057
         ]
        }
       ],
       "layout": {
        "boxgap": 0.3,
        "boxgroupgap": 0.5,
        "boxmode": "group",
        "shapes": [
         {
          "layer": "below",
          "line": {
           "color": "LightGrey",
           "width": 1
          },
          "type": "line",
          "x0": 0,
          "x1": 1,
          "xref": "x domain",
          "y0": 0.475,
          "y1": 0.475,
          "yref": "y"
         },
         {
          "layer": "below",
          "line": {
           "color": "Grey",
           "width": 1
          },
          "type": "line",
          "x0": 0,
          "x1": 1,
          "xref": "x domain",
          "y0": 0.5,
          "y1": 0.5,
          "yref": "y"
         },
         {
          "layer": "below",
          "line": {
           "color": "LightGrey",
           "width": 1
          },
          "type": "line",
          "x0": 0,
          "x1": 1,
          "xref": "x domain",
          "y0": 0.525,
          "y1": 0.525,
          "yref": "y"
         },
         {
          "layer": "below",
          "line": {
           "color": "LightGrey",
           "width": 1
          },
          "type": "line",
          "x0": 0,
          "x1": 1,
          "xref": "x domain",
          "y0": 0.55,
          "y1": 0.55,
          "yref": "y"
         },
         {
          "layer": "below",
          "line": {
           "color": "LightGrey",
           "width": 1
          },
          "type": "line",
          "x0": 0,
          "x1": 1,
          "xref": "x domain",
          "y0": 0.575,
          "y1": 0.575,
          "yref": "y"
         },
         {
          "layer": "below",
          "line": {
           "color": "Grey",
           "width": 1
          },
          "type": "line",
          "x0": 0,
          "x1": 1,
          "xref": "x domain",
          "y0": 0.6,
          "y1": 0.6,
          "yref": "y"
         },
         {
          "layer": "below",
          "line": {
           "color": "LightGrey",
           "width": 1
          },
          "type": "line",
          "x0": 0,
          "x1": 1,
          "xref": "x domain",
          "y0": 0.625,
          "y1": 0.625,
          "yref": "y"
         },
         {
          "layer": "below",
          "line": {
           "color": "LightGrey",
           "width": 1
          },
          "type": "line",
          "x0": 0,
          "x1": 1,
          "xref": "x domain",
          "y0": 0.65,
          "y1": 0.65,
          "yref": "y"
         },
         {
          "layer": "below",
          "line": {
           "color": "LightGrey",
           "width": 1
          },
          "type": "line",
          "x0": 0,
          "x1": 1,
          "xref": "x domain",
          "y0": 0.675,
          "y1": 0.675,
          "yref": "y"
         },
         {
          "layer": "below",
          "line": {
           "color": "Grey",
           "width": 1
          },
          "type": "line",
          "x0": 0,
          "x1": 1,
          "xref": "x domain",
          "y0": 0.7,
          "y1": 0.7,
          "yref": "y"
         },
         {
          "layer": "below",
          "line": {
           "color": "LightGrey",
           "width": 1
          },
          "type": "line",
          "x0": 0,
          "x1": 1,
          "xref": "x domain",
          "y0": 0.725,
          "y1": 0.725,
          "yref": "y"
         },
         {
          "layer": "below",
          "line": {
           "color": "LightGrey",
           "width": 1
          },
          "type": "line",
          "x0": 0,
          "x1": 1,
          "xref": "x domain",
          "y0": 0.75,
          "y1": 0.75,
          "yref": "y"
         },
         {
          "layer": "below",
          "line": {
           "color": "LightGrey",
           "width": 1
          },
          "type": "line",
          "x0": 0,
          "x1": 1,
          "xref": "x domain",
          "y0": 0.775,
          "y1": 0.775,
          "yref": "y"
         },
         {
          "layer": "below",
          "line": {
           "color": "Grey",
           "width": 1
          },
          "type": "line",
          "x0": 0,
          "x1": 1,
          "xref": "x domain",
          "y0": 0.8,
          "y1": 0.8,
          "yref": "y"
         },
         {
          "layer": "below",
          "line": {
           "color": "LightGrey",
           "width": 1
          },
          "type": "line",
          "x0": 0,
          "x1": 1,
          "xref": "x domain",
          "y0": 0.825,
          "y1": 0.825,
          "yref": "y"
         },
         {
          "layer": "below",
          "line": {
           "color": "LightGrey",
           "width": 1
          },
          "type": "line",
          "x0": 0,
          "x1": 1,
          "xref": "x domain",
          "y0": 0.85,
          "y1": 0.85,
          "yref": "y"
         },
         {
          "layer": "below",
          "line": {
           "color": "LightGrey",
           "width": 1
          },
          "type": "line",
          "x0": 0,
          "x1": 1,
          "xref": "x domain",
          "y0": 0.875,
          "y1": 0.875,
          "yref": "y"
         },
         {
          "layer": "below",
          "line": {
           "color": "Grey",
           "width": 1
          },
          "type": "line",
          "x0": 0,
          "x1": 1,
          "xref": "x domain",
          "y0": 0.9,
          "y1": 0.9,
          "yref": "y"
         },
         {
          "layer": "below",
          "line": {
           "color": "LightGrey",
           "width": 1
          },
          "type": "line",
          "x0": 0,
          "x1": 1,
          "xref": "x domain",
          "y0": 0.925,
          "y1": 0.925,
          "yref": "y"
         },
         {
          "layer": "below",
          "line": {
           "color": "LightGrey",
           "width": 1
          },
          "type": "line",
          "x0": 0,
          "x1": 1,
          "xref": "x domain",
          "y0": 0.95,
          "y1": 0.95,
          "yref": "y"
         },
         {
          "layer": "below",
          "line": {
           "color": "LightGrey",
           "width": 1
          },
          "type": "line",
          "x0": 0,
          "x1": 1,
          "xref": "x domain",
          "y0": 0.975,
          "y1": 0.975,
          "yref": "y"
         },
         {
          "layer": "below",
          "line": {
           "color": "Grey",
           "width": 1
          },
          "type": "line",
          "x0": 0,
          "x1": 1,
          "xref": "x domain",
          "y0": 1,
          "y1": 1,
          "yref": "y"
         }
        ],
        "template": {
         "data": {
          "bar": [
           {
            "error_x": {
             "color": "#2a3f5f"
            },
            "error_y": {
             "color": "#2a3f5f"
            },
            "marker": {
             "line": {
              "color": "#E5ECF6",
              "width": 0.5
             },
             "pattern": {
              "fillmode": "overlay",
              "size": 10,
              "solidity": 0.2
             }
            },
            "type": "bar"
           }
          ],
          "barpolar": [
           {
            "marker": {
             "line": {
              "color": "#E5ECF6",
              "width": 0.5
             },
             "pattern": {
              "fillmode": "overlay",
              "size": 10,
              "solidity": 0.2
             }
            },
            "type": "barpolar"
           }
          ],
          "carpet": [
           {
            "aaxis": {
             "endlinecolor": "#2a3f5f",
             "gridcolor": "white",
             "linecolor": "white",
             "minorgridcolor": "white",
             "startlinecolor": "#2a3f5f"
            },
            "baxis": {
             "endlinecolor": "#2a3f5f",
             "gridcolor": "white",
             "linecolor": "white",
             "minorgridcolor": "white",
             "startlinecolor": "#2a3f5f"
            },
            "type": "carpet"
           }
          ],
          "choropleth": [
           {
            "colorbar": {
             "outlinewidth": 0,
             "ticks": ""
            },
            "type": "choropleth"
           }
          ],
          "contour": [
           {
            "colorbar": {
             "outlinewidth": 0,
             "ticks": ""
            },
            "colorscale": [
             [
              0,
              "#0d0887"
             ],
             [
              0.1111111111111111,
              "#46039f"
             ],
             [
              0.2222222222222222,
              "#7201a8"
             ],
             [
              0.3333333333333333,
              "#9c179e"
             ],
             [
              0.4444444444444444,
              "#bd3786"
             ],
             [
              0.5555555555555556,
              "#d8576b"
             ],
             [
              0.6666666666666666,
              "#ed7953"
             ],
             [
              0.7777777777777778,
              "#fb9f3a"
             ],
             [
              0.8888888888888888,
              "#fdca26"
             ],
             [
              1,
              "#f0f921"
             ]
            ],
            "type": "contour"
           }
          ],
          "contourcarpet": [
           {
            "colorbar": {
             "outlinewidth": 0,
             "ticks": ""
            },
            "type": "contourcarpet"
           }
          ],
          "heatmap": [
           {
            "colorbar": {
             "outlinewidth": 0,
             "ticks": ""
            },
            "colorscale": [
             [
              0,
              "#0d0887"
             ],
             [
              0.1111111111111111,
              "#46039f"
             ],
             [
              0.2222222222222222,
              "#7201a8"
             ],
             [
              0.3333333333333333,
              "#9c179e"
             ],
             [
              0.4444444444444444,
              "#bd3786"
             ],
             [
              0.5555555555555556,
              "#d8576b"
             ],
             [
              0.6666666666666666,
              "#ed7953"
             ],
             [
              0.7777777777777778,
              "#fb9f3a"
             ],
             [
              0.8888888888888888,
              "#fdca26"
             ],
             [
              1,
              "#f0f921"
             ]
            ],
            "type": "heatmap"
           }
          ],
          "heatmapgl": [
           {
            "colorbar": {
             "outlinewidth": 0,
             "ticks": ""
            },
            "colorscale": [
             [
              0,
              "#0d0887"
             ],
             [
              0.1111111111111111,
              "#46039f"
             ],
             [
              0.2222222222222222,
              "#7201a8"
             ],
             [
              0.3333333333333333,
              "#9c179e"
             ],
             [
              0.4444444444444444,
              "#bd3786"
             ],
             [
              0.5555555555555556,
              "#d8576b"
             ],
             [
              0.6666666666666666,
              "#ed7953"
             ],
             [
              0.7777777777777778,
              "#fb9f3a"
             ],
             [
              0.8888888888888888,
              "#fdca26"
             ],
             [
              1,
              "#f0f921"
             ]
            ],
            "type": "heatmapgl"
           }
          ],
          "histogram": [
           {
            "marker": {
             "pattern": {
              "fillmode": "overlay",
              "size": 10,
              "solidity": 0.2
             }
            },
            "type": "histogram"
           }
          ],
          "histogram2d": [
           {
            "colorbar": {
             "outlinewidth": 0,
             "ticks": ""
            },
            "colorscale": [
             [
              0,
              "#0d0887"
             ],
             [
              0.1111111111111111,
              "#46039f"
             ],
             [
              0.2222222222222222,
              "#7201a8"
             ],
             [
              0.3333333333333333,
              "#9c179e"
             ],
             [
              0.4444444444444444,
              "#bd3786"
             ],
             [
              0.5555555555555556,
              "#d8576b"
             ],
             [
              0.6666666666666666,
              "#ed7953"
             ],
             [
              0.7777777777777778,
              "#fb9f3a"
             ],
             [
              0.8888888888888888,
              "#fdca26"
             ],
             [
              1,
              "#f0f921"
             ]
            ],
            "type": "histogram2d"
           }
          ],
          "histogram2dcontour": [
           {
            "colorbar": {
             "outlinewidth": 0,
             "ticks": ""
            },
            "colorscale": [
             [
              0,
              "#0d0887"
             ],
             [
              0.1111111111111111,
              "#46039f"
             ],
             [
              0.2222222222222222,
              "#7201a8"
             ],
             [
              0.3333333333333333,
              "#9c179e"
             ],
             [
              0.4444444444444444,
              "#bd3786"
             ],
             [
              0.5555555555555556,
              "#d8576b"
             ],
             [
              0.6666666666666666,
              "#ed7953"
             ],
             [
              0.7777777777777778,
              "#fb9f3a"
             ],
             [
              0.8888888888888888,
              "#fdca26"
             ],
             [
              1,
              "#f0f921"
             ]
            ],
            "type": "histogram2dcontour"
           }
          ],
          "mesh3d": [
           {
            "colorbar": {
             "outlinewidth": 0,
             "ticks": ""
            },
            "type": "mesh3d"
           }
          ],
          "parcoords": [
           {
            "line": {
             "colorbar": {
              "outlinewidth": 0,
              "ticks": ""
             }
            },
            "type": "parcoords"
           }
          ],
          "pie": [
           {
            "automargin": true,
            "type": "pie"
           }
          ],
          "scatter": [
           {
            "marker": {
             "colorbar": {
              "outlinewidth": 0,
              "ticks": ""
             }
            },
            "type": "scatter"
           }
          ],
          "scatter3d": [
           {
            "line": {
             "colorbar": {
              "outlinewidth": 0,
              "ticks": ""
             }
            },
            "marker": {
             "colorbar": {
              "outlinewidth": 0,
              "ticks": ""
             }
            },
            "type": "scatter3d"
           }
          ],
          "scattercarpet": [
           {
            "marker": {
             "colorbar": {
              "outlinewidth": 0,
              "ticks": ""
             }
            },
            "type": "scattercarpet"
           }
          ],
          "scattergeo": [
           {
            "marker": {
             "colorbar": {
              "outlinewidth": 0,
              "ticks": ""
             }
            },
            "type": "scattergeo"
           }
          ],
          "scattergl": [
           {
            "marker": {
             "colorbar": {
              "outlinewidth": 0,
              "ticks": ""
             }
            },
            "type": "scattergl"
           }
          ],
          "scattermapbox": [
           {
            "marker": {
             "colorbar": {
              "outlinewidth": 0,
              "ticks": ""
             }
            },
            "type": "scattermapbox"
           }
          ],
          "scatterpolar": [
           {
            "marker": {
             "colorbar": {
              "outlinewidth": 0,
              "ticks": ""
             }
            },
            "type": "scatterpolar"
           }
          ],
          "scatterpolargl": [
           {
            "marker": {
             "colorbar": {
              "outlinewidth": 0,
              "ticks": ""
             }
            },
            "type": "scatterpolargl"
           }
          ],
          "scatterternary": [
           {
            "marker": {
             "colorbar": {
              "outlinewidth": 0,
              "ticks": ""
             }
            },
            "type": "scatterternary"
           }
          ],
          "surface": [
           {
            "colorbar": {
             "outlinewidth": 0,
             "ticks": ""
            },
            "colorscale": [
             [
              0,
              "#0d0887"
             ],
             [
              0.1111111111111111,
              "#46039f"
             ],
             [
              0.2222222222222222,
              "#7201a8"
             ],
             [
              0.3333333333333333,
              "#9c179e"
             ],
             [
              0.4444444444444444,
              "#bd3786"
             ],
             [
              0.5555555555555556,
              "#d8576b"
             ],
             [
              0.6666666666666666,
              "#ed7953"
             ],
             [
              0.7777777777777778,
              "#fb9f3a"
             ],
             [
              0.8888888888888888,
              "#fdca26"
             ],
             [
              1,
              "#f0f921"
             ]
            ],
            "type": "surface"
           }
          ],
          "table": [
           {
            "cells": {
             "fill": {
              "color": "#EBF0F8"
             },
             "line": {
              "color": "white"
             }
            },
            "header": {
             "fill": {
              "color": "#C8D4E3"
             },
             "line": {
              "color": "white"
             }
            },
            "type": "table"
           }
          ]
         },
         "layout": {
          "annotationdefaults": {
           "arrowcolor": "#2a3f5f",
           "arrowhead": 0,
           "arrowwidth": 1
          },
          "autotypenumbers": "strict",
          "coloraxis": {
           "colorbar": {
            "outlinewidth": 0,
            "ticks": ""
           }
          },
          "colorscale": {
           "diverging": [
            [
             0,
             "#8e0152"
            ],
            [
             0.1,
             "#c51b7d"
            ],
            [
             0.2,
             "#de77ae"
            ],
            [
             0.3,
             "#f1b6da"
            ],
            [
             0.4,
             "#fde0ef"
            ],
            [
             0.5,
             "#f7f7f7"
            ],
            [
             0.6,
             "#e6f5d0"
            ],
            [
             0.7,
             "#b8e186"
            ],
            [
             0.8,
             "#7fbc41"
            ],
            [
             0.9,
             "#4d9221"
            ],
            [
             1,
             "#276419"
            ]
           ],
           "sequential": [
            [
             0,
             "#0d0887"
            ],
            [
             0.1111111111111111,
             "#46039f"
            ],
            [
             0.2222222222222222,
             "#7201a8"
            ],
            [
             0.3333333333333333,
             "#9c179e"
            ],
            [
             0.4444444444444444,
             "#bd3786"
            ],
            [
             0.5555555555555556,
             "#d8576b"
            ],
            [
             0.6666666666666666,
             "#ed7953"
            ],
            [
             0.7777777777777778,
             "#fb9f3a"
            ],
            [
             0.8888888888888888,
             "#fdca26"
            ],
            [
             1,
             "#f0f921"
            ]
           ],
           "sequentialminus": [
            [
             0,
             "#0d0887"
            ],
            [
             0.1111111111111111,
             "#46039f"
            ],
            [
             0.2222222222222222,
             "#7201a8"
            ],
            [
             0.3333333333333333,
             "#9c179e"
            ],
            [
             0.4444444444444444,
             "#bd3786"
            ],
            [
             0.5555555555555556,
             "#d8576b"
            ],
            [
             0.6666666666666666,
             "#ed7953"
            ],
            [
             0.7777777777777778,
             "#fb9f3a"
            ],
            [
             0.8888888888888888,
             "#fdca26"
            ],
            [
             1,
             "#f0f921"
            ]
           ]
          },
          "colorway": [
           "#636efa",
           "#EF553B",
           "#00cc96",
           "#ab63fa",
           "#FFA15A",
           "#19d3f3",
           "#FF6692",
           "#B6E880",
           "#FF97FF",
           "#FECB52"
          ],
          "font": {
           "color": "#2a3f5f"
          },
          "geo": {
           "bgcolor": "white",
           "lakecolor": "white",
           "landcolor": "#E5ECF6",
           "showlakes": true,
           "showland": true,
           "subunitcolor": "white"
          },
          "hoverlabel": {
           "align": "left"
          },
          "hovermode": "closest",
          "mapbox": {
           "style": "light"
          },
          "paper_bgcolor": "white",
          "plot_bgcolor": "#E5ECF6",
          "polar": {
           "angularaxis": {
            "gridcolor": "white",
            "linecolor": "white",
            "ticks": ""
           },
           "bgcolor": "#E5ECF6",
           "radialaxis": {
            "gridcolor": "white",
            "linecolor": "white",
            "ticks": ""
           }
          },
          "scene": {
           "xaxis": {
            "backgroundcolor": "#E5ECF6",
            "gridcolor": "white",
            "gridwidth": 2,
            "linecolor": "white",
            "showbackground": true,
            "ticks": "",
            "zerolinecolor": "white"
           },
           "yaxis": {
            "backgroundcolor": "#E5ECF6",
            "gridcolor": "white",
            "gridwidth": 2,
            "linecolor": "white",
            "showbackground": true,
            "ticks": "",
            "zerolinecolor": "white"
           },
           "zaxis": {
            "backgroundcolor": "#E5ECF6",
            "gridcolor": "white",
            "gridwidth": 2,
            "linecolor": "white",
            "showbackground": true,
            "ticks": "",
            "zerolinecolor": "white"
           }
          },
          "shapedefaults": {
           "line": {
            "color": "#2a3f5f"
           }
          },
          "ternary": {
           "aaxis": {
            "gridcolor": "white",
            "linecolor": "white",
            "ticks": ""
           },
           "baxis": {
            "gridcolor": "white",
            "linecolor": "white",
            "ticks": ""
           },
           "bgcolor": "#E5ECF6",
           "caxis": {
            "gridcolor": "white",
            "linecolor": "white",
            "ticks": ""
           }
          },
          "title": {
           "x": 0.05
          },
          "xaxis": {
           "automargin": true,
           "gridcolor": "white",
           "linecolor": "white",
           "ticks": "",
           "title": {
            "standoff": 15
           },
           "zerolinecolor": "white",
           "zerolinewidth": 2
          },
          "yaxis": {
           "automargin": true,
           "gridcolor": "white",
           "linecolor": "white",
           "ticks": "",
           "title": {
            "standoff": 15
           },
           "zerolinecolor": "white",
           "zerolinewidth": 2
          }
         }
        },
        "title": {
         "text": "Structural Similarity (SSIM) values for different methods and upscaling",
         "x": 0.5
        },
        "xaxis": {
         "title": {
          "text": "Upscaling Method"
         }
        },
        "yaxis": {
         "gridcolor": "Grey",
         "gridwidth": 1,
         "showgrid": true,
         "title": {
          "text": "SSIM"
         }
        }
       }
      }
     },
     "metadata": {},
     "output_type": "display_data"
    }
   ],
   "source": [
    "import plotly.graph_objects as go\n",
    "\n",
    "\n",
    "fig = go.Figure()\n",
    "fig.add_hline(y=0.475, line=dict(color='LightGrey', width=1),layer='below')\n",
    "fig.add_hline(y=0.5, line=dict(color='Grey', width=1),layer='below')\n",
    "fig.add_hline(y=0.525, line=dict(color='LightGrey', width=1),layer='below')\n",
    "fig.add_hline(y=0.55, line=dict(color='LightGrey', width=1),layer='below')\n",
    "fig.add_hline(y=0.575, line=dict(color='LightGrey', width=1),layer='below')\n",
    "\n",
    "fig.add_hline(y=0.6, line=dict(color='Grey', width=1),layer='below')\n",
    "fig.add_hline(y=0.625, line=dict(color='LightGrey', width=1),layer='below')\n",
    "fig.add_hline(y=0.65, line=dict(color='LightGrey', width=1),layer='below')\n",
    "fig.add_hline(y=0.675, line=dict(color='LightGrey', width=1),layer='below')\n",
    "fig.add_hline(y=0.7, line=dict(color='Grey', width=1),layer='below')\n",
    "fig.add_hline(y=0.725, line=dict(color='LightGrey', width=1),layer='below')\n",
    "fig.add_hline(y=0.75, line=dict(color='LightGrey', width=1),layer='below')\n",
    "fig.add_hline(y=0.775, line=dict(color='LightGrey', width=1),layer='below')\n",
    "fig.add_hline(y=0.8, line=dict(color='Grey', width=1),layer='below')\n",
    "fig.add_hline(y=0.825, line=dict(color='LightGrey', width=1),layer='below')\n",
    "fig.add_hline(y=0.85, line=dict(color='LightGrey', width=1),layer='below')\n",
    "fig.add_hline(y=0.875, line=dict(color='LightGrey', width=1),layer='below')\n",
    "fig.add_hline(y=0.9, line=dict(color='Grey', width=1),layer='below')\n",
    "fig.add_hline(y=0.925, line=dict(color='LightGrey', width=1),layer='below')\n",
    "fig.add_hline(y=0.95, line=dict(color='LightGrey', width=1),layer='below')\n",
    "fig.add_hline(y=0.975, line=dict(color='LightGrey', width=1),layer='below')\n",
    "fig.add_hline(y=1.0, line=dict(color='Grey', width=1),layer='below')\n",
    "\n",
    "fig.update_layout(title_text='Structural Similarity (SSIM) values for different methods and upscaling', title_x=0.5)\n",
    "fig.add_trace(go.Box(x=df_4x['Method'],\n",
    "                        y=df_4x[\"SSIM_2x\"],\n",
    "                        legendgroup='2x', name='2x',\n",
    "                        line_color='mediumpurple', boxpoints='all',pointpos=-1.8, marker=dict(size=4) )\n",
    "             )\n",
    "fig.add_trace(go.Box(x=df_4x['Method'],\n",
    "                        y=df_4x[\"SSIM_4x\"],\n",
    "                        legendgroup='4x', name='4x',\n",
    "                        line_color='steelblue', boxpoints='all',pointpos=-1.8, marker=dict(size=4))\n",
    "             )\n",
    "# move boxplots to the front\n",
    "\n",
    "\n",
    "#fig.update_traces(box_visible=True)\n",
    "fig.update_layout(boxmode='group')\n",
    "fig.update_layout(boxgroupgap=0.5, boxgap=0.3)\n",
    "fig.update_layout(\n",
    "\n",
    "    xaxis_title=\"Upscaling Method\",\n",
    "    yaxis_title=\"SSIM\")\n",
    "\n",
    "fig.update_yaxes(showgrid=True, gridwidth=1, gridcolor='Grey')\n",
    "# fig.update_yaxes(showgrid=True, gridwidth=0.5, gridcolor='LightGrey', \n",
    "#                  tickvals=[t for t in range(0, 1, 0.1)],\n",
    "#                  ticktext=[t if (t%5)==0 else \" \" for t in range(0, 1, 0.1)]             \n",
    "#                 )\n",
    "fig.show()"
   ]
  },
  {
   "attachments": {},
   "cell_type": "markdown",
   "metadata": {},
   "source": [
    "#### Graphic comparison of upscaling results"
   ]
  },
  {
   "cell_type": "code",
   "execution_count": 12,
   "metadata": {},
   "outputs": [
    {
     "data": {
      "text/plain": [
       "<Figure size 1440x1080 with 0 Axes>"
      ]
     },
     "metadata": {},
     "output_type": "display_data"
    },
    {
     "data": {
      "image/png": "[encoded data removed]",
      "text/plain": [
       "<Figure size 864x432 with 4 Axes>"
      ]
     },
     "metadata": {
      "needs_background": "light"
     },
     "output_type": "display_data"
    }
   ],
   "source": [
    "original_image = Image.open(\"original/2100.png\")\n",
    "rcanit_image = Image.open(\"rcanit_4x/2100.png\")\n",
    "swinir_image = Image.open(\"swinir_4x/2100.png\")\n",
    "lanczos_image = Image.open(\"lanczos_4x/2100.png\")\n",
    "\n",
    "\n",
    "\n",
    "\n",
    "def graphImgs(imgs, title=None, cmap=\"Greys_r\", figsize=(12,6)):\n",
    "    \"\"\" imgs ->  a list of images\n",
    "        title ->  a list of strings        \n",
    "        returns mpl subplots\n",
    "    \"\"\"\n",
    "    plt.figure(figsize=(20,15))\n",
    "    fig, axes = plt.subplots(nrows=1, ncols=len(imgs), figsize=figsize)\n",
    "    for i, ax in enumerate(axes):\n",
    "        ax.imshow(imgs[i], cmap=cmap)\n",
    "        if title is not None:\n",
    "            try:\n",
    "                ax.set_title(title[i])\n",
    "            except:\n",
    "                pass\n",
    "    fig.tight_layout()\n",
    "\n",
    "graphImgs([np.array(original_image)[:200,200:400,:],  np.array(swinir_image)[:200, 200:400,:], np.array(rcanit_image)[:200, 200:400,:], np.array(lanczos_image)[:200, 200:400,:]], [\"Original\",\"SwinIR\",\"RCANIT\",  \"Lanczos\"])"
   ]
  },
  {
   "cell_type": "code",
   "execution_count": 8,
   "metadata": {},
   "outputs": [
    {
     "data": {
      "text/plain": [
       "<matplotlib.image.AxesImage at 0x14a04fac2e0>"
      ]
     },
     "execution_count": 8,
     "metadata": {},
     "output_type": "execute_result"
    },
    {
     "data": {
      "image/png": "[encoded data removed]",
      "text/plain": [
       "<Figure size 432x288 with 1 Axes>"
      ]
     },
     "metadata": {
      "needs_background": "light"
     },
     "output_type": "display_data"
    }
   ],
   "source": [
    "plt.imshow(np.array(original_image)[:200,200:400,:])"
   ]
  },
  {
   "cell_type": "code",
   "execution_count": 145,
   "metadata": {},
   "outputs": [
    {
     "name": "stdout",
     "output_type": "stream",
     "text": [
      "0.7079381311847367\n"
     ]
    }
   ],
   "source": [
    "folderA = \"original/\"\n",
    "folderB = \"bicubic_4x/\"\n",
    "# 3. Load the two input images\n",
    "\n",
    "scores = []\n",
    "for i in os.listdir(folderA):\n",
    "    imageA = cv2.imread(folderA+i)\n",
    "    imageB = cv2.imread(folderB+i)\n",
    "\n",
    "    # 4. Convert the images to grayscale\n",
    "    grayA = cv2.cvtColor(imageA, cv2.COLOR_BGR2GRAY)\n",
    "    grayB = cv2.cvtColor(imageB, cv2.COLOR_BGR2GRAY)\n",
    "\n",
    "    # 5. Compute the Structural Similarity Index (SSIM) between the two\n",
    "    #    images, ensuring that the difference image is returned\n",
    "    (score, diff) = structural_similarity(grayA, grayB, full=True)\n",
    "    diff = (diff * 255).astype(\"uint8\")\n",
    "\n",
    "    # 6. You can print only the score if you want\n",
    "    scores.append(score)\n",
    "    #print(\"SSIM: {}\".format(score))\n",
    "\n",
    "print(np.mean(scores))"
   ]
  },
  {
   "cell_type": "code",
   "execution_count": 25,
   "metadata": {},
   "outputs": [
    {
     "name": "stdout",
     "output_type": "stream",
     "text": [
      "0.7703456050324604\n"
     ]
    }
   ],
   "source": [
    "folderA = \"original/\"\n",
    "folderB = \"rcanit_4x/\"\n",
    "# 3. Load the two input images\n",
    "\n",
    "scores = []\n",
    "for i in os.listdir(folderA):\n",
    "    imageA = cv2.imread(folderA+i)\n",
    "    imageB = cv2.imread(folderB+i)\n",
    "\n",
    "    # 4. Convert the images to grayscale\n",
    "    grayA = cv2.cvtColor(imageA, cv2.COLOR_BGR2GRAY)\n",
    "    grayB = cv2.cvtColor(imageB, cv2.COLOR_BGR2GRAY)\n",
    "\n",
    "    # 5. Compute the Structural Similarity Index (SSIM) between the two\n",
    "    #    images, ensuring that the difference image is returned\n",
    "    (score, diff) = structural_similarity(grayA, grayB, full=True)\n",
    "    diff = (diff * 255).astype(\"uint8\")\n",
    "\n",
    "    # 6. You can print only the score if you want\n",
    "    scores.append(score)\n",
    "    #print(\"SSIM: {}\".format(score))\n",
    "\n",
    "print(np.mean(scores))"
   ]
  },
  {
   "cell_type": "code",
   "execution_count": 26,
   "metadata": {},
   "outputs": [
    {
     "name": "stdout",
     "output_type": "stream",
     "text": [
      "0.7777658107760879\n"
     ]
    }
   ],
   "source": [
    "folderA = \"original/\"\n",
    "folderB = \"swinir_4x/\"\n",
    "# 3. Load the two input images\n",
    "\n",
    "scores = []\n",
    "for i in os.listdir(folderA):\n",
    "    imageA = cv2.imread(folderA+i)\n",
    "    imageB = cv2.imread(folderB+i)\n",
    "\n",
    "    # 4. Convert the images to grayscale\n",
    "    grayA = cv2.cvtColor(imageA, cv2.COLOR_BGR2GRAY)\n",
    "    grayB = cv2.cvtColor(imageB, cv2.COLOR_BGR2GRAY)\n",
    "\n",
    "    # 5. Compute the Structural Similarity Index (SSIM) between the two\n",
    "    #    images, ensuring that the difference image is returned\n",
    "    (score, diff) = structural_similarity(grayA, grayB, full=True)\n",
    "    diff = (diff * 255).astype(\"uint8\")\n",
    "\n",
    "    # 6. You can print only the score if you want\n",
    "    scores.append(score)\n",
    "    #print(\"SSIM: {}\".format(score))\n",
    "\n",
    "print(np.mean(scores))"
   ]
  }
 ],
 "metadata": {
  "interpreter": {
   "hash": "263930470851f494f0ed2879c35b57985588df20f9e529b86e97dd5eb9ddc466"
  },
  "kernelspec": {
   "display_name": "Python 3.8.8 ('base')",
   "language": "python",
   "name": "python3"
  },
  "language_info": {
   "codemirror_mode": {
    "name": "ipython",
    "version": 3
   },
   "file_extension": ".py",
   "mimetype": "text/x-python",
   "name": "python",
   "nbconvert_exporter": "python",
   "pygments_lexer": "ipython3",
   "version": "3.8.8"
  },
  "orig_nbformat": 4
 },
 "nbformat": 4,
 "nbformat_minor": 2
}
