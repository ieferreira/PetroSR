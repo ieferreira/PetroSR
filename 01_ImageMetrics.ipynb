{
 "cells": [
  {
   "cell_type": "code",
   "execution_count": 1,
   "metadata": {},
   "outputs": [
    {
     "name": "stdout",
     "output_type": "stream",
     "text": [
      "Collecting opencv-python\n",
      "  Downloading opencv_python-4.6.0.66-cp36-abi3-win_amd64.whl (35.6 MB)\n",
      "Requirement already satisfied: numpy>=1.17.3 in c:\\users\\user\\anaconda3\\envs\\sk024\\lib\\site-packages (from opencv-python) (1.21.5)\n",
      "Installing collected packages: opencv-python\n",
      "Successfully installed opencv-python-4.6.0.66\n"
     ]
    }
   ],
   "source": [
    "\n",
    "# pip install opencv contrib python\n",
    "!pip install opencv-python"
   ]
  },
  {
   "cell_type": "code",
   "execution_count": 2,
   "metadata": {},
   "outputs": [],
   "source": [
    "from sewar.full_ref import mse, rmse, psnr, uqi, ssim, ergas, scc, rase, sam, msssim, vifp"
   ]
  },
  {
   "cell_type": "code",
   "execution_count": 3,
   "metadata": {},
   "outputs": [],
   "source": [
    "import os, shutil \n",
    "from PIL import Image \n",
    "import cv2 \n",
    "import numpy as np \n",
    "import matplotlib.pyplot as plt \n",
    "import pandas as pd \n",
    "\n"
   ]
  },
  {
   "cell_type": "code",
   "execution_count": 11,
   "metadata": {},
   "outputs": [],
   "source": [
    "upscaled = np.array(Image.open(\"swinir_2x/2151.png\"))\n",
    "original = np.array(Image.open(\"original/2151.png\"))\n"
   ]
  },
  {
   "cell_type": "code",
   "execution_count": 9,
   "metadata": {},
   "outputs": [
    {
     "name": "stdout",
     "output_type": "stream",
     "text": [
      "MSE:  28.62606430053711\n",
      "RMSE:  5.350333101829933\n",
      "PSNR:  33.56318718401793\n",
      "SSIM:  (0.9592291186321216, 0.960681463628573)\n",
      "UQI:  0.9886294087946363\n",
      "MSSSIM:  (0.9865691999741704+0j)\n",
      "ERGAS:  10165.039180489006\n",
      "SCC:  0.6624442500947819\n",
      "RASE:  nan\n",
      "SAM:  0.03593181066749956\n",
      "VIF:  0.6384545686615763\n"
     ]
    }
   ],
   "source": [
    "    \n",
    "print(\"MSE: \", mse(upscaled,original))\n",
    "print(\"RMSE: \", rmse(upscaled, original))\n",
    "print(\"PSNR: \", psnr(upscaled, original))\n",
    "print(\"SSIM: \", ssim(upscaled, original))\n",
    "print(\"UQI: \", uqi(upscaled, original))\n",
    "print(\"MSSSIM: \", msssim(upscaled, original))\n",
    "print(\"ERGAS: \", ergas(upscaled, original))\n",
    "print(\"SCC: \", scc(upscaled, original))\n",
    "print(\"RASE: \", rase(upscaled, original))\n",
    "print(\"SAM: \", sam(upscaled, original))\n",
    "print(\"VIF: \", vifp(upscaled, original))"
   ]
  },
  {
   "cell_type": "code",
   "execution_count": 12,
   "metadata": {},
   "outputs": [
    {
     "name": "stdout",
     "output_type": "stream",
     "text": [
      "MSE:  15.968093872070312\n",
      "RMSE:  3.9960097437406623\n",
      "PSNR:  36.098272838182574\n",
      "SSIM:  (0.9755650799795369, 0.9761503042327172)\n",
      "UQI:  0.9943598221455092\n",
      "MSSSIM:  (0.9948524761629436+0j)\n",
      "ERGAS:  2238.225728042532\n",
      "SCC:  0.695391667549154\n",
      "RASE:  321.55347446946297\n",
      "SAM:  0.02675385795934017\n",
      "VIF:  0.6996740924380204\n"
     ]
    }
   ],
   "source": [
    "\n",
    "print(\"MSE: \", mse(upscaled,original))\n",
    "print(\"RMSE: \", rmse(upscaled, original))\n",
    "print(\"PSNR: \", psnr(upscaled, original))\n",
    "print(\"SSIM: \", ssim(upscaled, original))\n",
    "print(\"UQI: \", uqi(upscaled, original))\n",
    "print(\"MSSSIM: \", msssim(upscaled, original))\n",
    "print(\"ERGAS: \", ergas(upscaled, original))\n",
    "print(\"SCC: \", scc(upscaled, original))\n",
    "print(\"RASE: \", rase(upscaled, original))\n",
    "print(\"SAM: \", sam(upscaled, original))\n",
    "print(\"VIF: \", vifp(upscaled, original))"
   ]
  }
 ],
 "metadata": {
  "interpreter": {
   "hash": "55e2275d003566fc3235957ab2577b68afb51c9acb93a60b45930f04cab39417"
  },
  "kernelspec": {
   "display_name": "sk024",
   "language": "python",
   "name": "sk024"
  },
  "language_info": {
   "codemirror_mode": {
    "name": "ipython",
    "version": 3
   },
   "file_extension": ".py",
   "mimetype": "text/x-python",
   "name": "python",
   "nbconvert_exporter": "python",
   "pygments_lexer": "ipython3",
   "version": "3.9.12"
  },
  "orig_nbformat": 4
 },
 "nbformat": 4,
 "nbformat_minor": 2
}
